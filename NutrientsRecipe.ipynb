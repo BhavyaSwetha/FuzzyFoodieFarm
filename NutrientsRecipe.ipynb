{
 "cells": [
  {
   "cell_type": "code",
   "execution_count": 1,
   "metadata": {
    "collapsed": false
   },
   "outputs": [
    {
     "data": {
      "text/html": [
       "<div>\n",
       "<table border=\"1\" class=\"dataframe\">\n",
       "  <thead>\n",
       "    <tr style=\"text-align: right;\">\n",
       "      <th></th>\n",
       "      <th>id</th>\n",
       "      <th>title</th>\n",
       "      <th>readyInMinutes</th>\n",
       "    </tr>\n",
       "  </thead>\n",
       "  <tbody>\n",
       "    <tr>\n",
       "      <th>0</th>\n",
       "      <td>262682</td>\n",
       "      <td>Thai Sweet Potato Veggie Burgers with Spicy Pe...</td>\n",
       "      <td>75</td>\n",
       "    </tr>\n",
       "    <tr>\n",
       "      <th>1</th>\n",
       "      <td>227961</td>\n",
       "      <td>Cajun Spiced Black Bean and Sweet Potato Burgers</td>\n",
       "      <td>20</td>\n",
       "    </tr>\n",
       "    <tr>\n",
       "      <th>2</th>\n",
       "      <td>759739</td>\n",
       "      <td>Gluten-Free Veggie Burger</td>\n",
       "      <td>45</td>\n",
       "    </tr>\n",
       "    <tr>\n",
       "      <th>3</th>\n",
       "      <td>630255</td>\n",
       "      <td>Protein Powerhouse Veggie Burgers</td>\n",
       "      <td>95</td>\n",
       "    </tr>\n",
       "    <tr>\n",
       "      <th>4</th>\n",
       "      <td>479732</td>\n",
       "      <td>Meatless Monday: Curried Veggie Burgers with Z...</td>\n",
       "      <td>15</td>\n",
       "    </tr>\n",
       "    <tr>\n",
       "      <th>5</th>\n",
       "      <td>541691</td>\n",
       "      <td>Black Bean Mole Burgers</td>\n",
       "      <td>45</td>\n",
       "    </tr>\n",
       "    <tr>\n",
       "      <th>6</th>\n",
       "      <td>766301</td>\n",
       "      <td>Queso Cheese Burgers</td>\n",
       "      <td>60</td>\n",
       "    </tr>\n",
       "    <tr>\n",
       "      <th>7</th>\n",
       "      <td>8843</td>\n",
       "      <td>Lentil Burgers</td>\n",
       "      <td>45</td>\n",
       "    </tr>\n",
       "    <tr>\n",
       "      <th>8</th>\n",
       "      <td>33803</td>\n",
       "      <td>Lentil Hummus Burger</td>\n",
       "      <td>240</td>\n",
       "    </tr>\n",
       "    <tr>\n",
       "      <th>9</th>\n",
       "      <td>506584</td>\n",
       "      <td>Chickpea Sunflower Seed Burgers</td>\n",
       "      <td>45</td>\n",
       "    </tr>\n",
       "  </tbody>\n",
       "</table>\n",
       "</div>"
      ],
      "text/plain": [
       "       id                                              title  readyInMinutes\n",
       "0  262682  Thai Sweet Potato Veggie Burgers with Spicy Pe...              75\n",
       "1  227961   Cajun Spiced Black Bean and Sweet Potato Burgers              20\n",
       "2  759739                          Gluten-Free Veggie Burger              45\n",
       "3  630255                  Protein Powerhouse Veggie Burgers              95\n",
       "4  479732  Meatless Monday: Curried Veggie Burgers with Z...              15\n",
       "5  541691                            Black Bean Mole Burgers              45\n",
       "6  766301                               Queso Cheese Burgers              60\n",
       "7    8843                                     Lentil Burgers              45\n",
       "8   33803                               Lentil Hummus Burger             240\n",
       "9  506584                    Chickpea Sunflower Seed Burgers              45"
      ]
     },
     "execution_count": 1,
     "metadata": {},
     "output_type": "execute_result"
    }
   ],
   "source": [
    "import unirest\n",
    "import pandas as pd \n",
    "\n",
    "recipes = unirest.get(\"https://spoonacular-recipe-food-nutrition-v1.p.mashape.com/recipes/search?diet=vegetarian&excludeIngredients=coconut&intolerances=egg%2C+gluten&limitLicense=false&number=10&offset=0&query=burger&type=main+course\",\n",
    "  headers={\n",
    "    \"X-Mashape-Key\": \"uI9T1GTt8nmshcUUWJOjq8TQNGBgp1P9Zffjsn7dAbkmTSDt1k\",\n",
    "    \"Accept\": \"application/json\"\n",
    "  }\n",
    ")\n",
    "\n",
    "testData = recipes.body\n",
    "testFrame = pd.DataFrame(testData['results'], columns=['id', 'title', 'readyInMinutes'])\n",
    "testFrame"
   ]
  },
  {
   "cell_type": "code",
   "execution_count": 7,
   "metadata": {
    "collapsed": true
   },
   "outputs": [],
   "source": [
    "response = unirest.get(\"https://spoonacular-recipe-food-nutrition-v1.p.mashape.com/recipes/541691/information?includeNutrition=true\",\n",
    "  headers={\n",
    "    \"X-Mashape-Key\": \"uI9T1GTt8nmshcUUWJOjq8TQNGBgp1P9Zffjsn7dAbkmTSDt1k\",\n",
    "    \"Accept\": \"application/json\"\n",
    "  }\n",
    ")\n",
    "recipeInfo = response.body"
   ]
  },
  {
   "cell_type": "code",
   "execution_count": 10,
   "metadata": {
    "collapsed": false
   },
   "outputs": [
    {
     "data": {
      "text/plain": [
       "{u'Calories': 388.29, u'Fat': 6.76, u'Saturated Fat': 0.92, u'Sugar': 20.27}"
      ]
     },
     "execution_count": 10,
     "metadata": {},
     "output_type": "execute_result"
    }
   ],
   "source": [
    "selectedNutritions = ['Calories', 'Fat', 'Saturated Fat', 'Sugar']\n",
    "recipeNutritions = recipeInfo['nutrition']['nutrients']\n",
    "nutritionsDict = {nutrition['title']: nutrition['amount'] for nutrition in recipeNutritions if nutrition['title'] in selectedNutritions}\n",
    "nutritionsDict"
   ]
  },
  {
   "cell_type": "code",
   "execution_count": 6,
   "metadata": {
    "collapsed": false,
    "scrolled": true
   },
   "outputs": [
    {
     "name": "stdout",
     "output_type": "stream",
     "text": [
      "28\n",
      "36\n",
      "30\n",
      "36\n",
      "36\n",
      "37\n",
      "36\n"
     ]
    },
    {
     "data": {
      "text/plain": [
       "[u'Iron',\n",
       " u'Sodium',\n",
       " u'Fluoride',\n",
       " u'Selenium',\n",
       " u'Trans Fat',\n",
       " u'Phosphorus',\n",
       " u'Vitamin B2',\n",
       " u'Caffeine',\n",
       " u'Vitamin A',\n",
       " u'Vitamin B1',\n",
       " u'Mono Unsaturated Fat',\n",
       " u'Fiber',\n",
       " u'Vitamin K',\n",
       " u'Vitamin C',\n",
       " u'Sugar',\n",
       " u'Alcohol',\n",
       " u'Vitamin B3',\n",
       " u'Fat',\n",
       " u'Vitamin B6',\n",
       " u'Potassium',\n",
       " u'Cholesterol',\n",
       " u'Folate',\n",
       " u'Carbohydrates',\n",
       " u'Copper',\n",
       " u'Vitamin E',\n",
       " u'Vitamin B5',\n",
       " u'Saturated Fat',\n",
       " u'Manganese',\n",
       " u'Poly Unsaturated Fat',\n",
       " u'Calories',\n",
       " u'Zinc',\n",
       " u'Vitamin B12',\n",
       " u'Protein',\n",
       " u'Vitamin D',\n",
       " u'Magnesium',\n",
       " u'Calcium']"
      ]
     },
     "execution_count": 6,
     "metadata": {},
     "output_type": "execute_result"
    }
   ],
   "source": [
    "recipeNutritions = recipeInfo['nutrition']['ingredients']\n",
    "for ingredient in recipeNutritions:\n",
    "    nutrients = ingredient['nutrients']\n",
    "    ingrNutritions = [nut['name'] for nut in nutrients]\n",
    "    print len(ingrNutritions)\n",
    "ingrNutritions"
   ]
  },
  {
   "cell_type": "code",
   "execution_count": 9,
   "metadata": {
    "collapsed": false
   },
   "outputs": [
    {
     "data": {
      "text/plain": [
       "29"
      ]
     },
     "execution_count": 9,
     "metadata": {},
     "output_type": "execute_result"
    }
   ],
   "source": [
    "len(nutritions)"
   ]
  },
  {
   "cell_type": "code",
   "execution_count": null,
   "metadata": {
    "collapsed": true
   },
   "outputs": [],
   "source": []
  }
 ],
 "metadata": {
  "kernelspec": {
   "display_name": "Python [py27]",
   "language": "python",
   "name": "Python [py27]"
  },
  "language_info": {
   "codemirror_mode": {
    "name": "ipython",
    "version": 2
   },
   "file_extension": ".py",
   "mimetype": "text/x-python",
   "name": "python",
   "nbconvert_exporter": "python",
   "pygments_lexer": "ipython2",
   "version": "2.7.12"
  }
 },
 "nbformat": 4,
 "nbformat_minor": 0
}

{
 "cells": [
  {
   "cell_type": "code",
   "execution_count": 1,
   "metadata": {
    "collapsed": false
   },
   "outputs": [
    {
     "ename": "KeyError",
     "evalue": "'nutrition'",
     "output_type": "error",
     "traceback": [
      "\u001b[0;31m---------------------------------------------------------------------------\u001b[0m",
      "\u001b[0;31mKeyError\u001b[0m                                  Traceback (most recent call last)",
      "\u001b[0;32m<ipython-input-1-14f1257f1de8>\u001b[0m in \u001b[0;36mdoTheSearch\u001b[0;34m(button)\u001b[0m\n\u001b[1;32m     37\u001b[0m     \u001b[1;31m# fuzzify activity\u001b[0m\u001b[1;33m\u001b[0m\u001b[1;33m\u001b[0m\u001b[0m\n\u001b[1;32m     38\u001b[0m     \u001b[1;32mfor\u001b[0m \u001b[0midRecipe\u001b[0m \u001b[1;32min\u001b[0m \u001b[0mlist\u001b[0m\u001b[1;33m(\u001b[0m\u001b[0mtestFrame\u001b[0m\u001b[1;33m.\u001b[0m\u001b[0mid\u001b[0m\u001b[1;33m.\u001b[0m\u001b[0mvalues\u001b[0m\u001b[1;33m)\u001b[0m\u001b[1;33m:\u001b[0m\u001b[1;33m\u001b[0m\u001b[0m\n\u001b[0;32m---> 39\u001b[0;31m         \u001b[0m_\u001b[0m\u001b[1;33m,\u001b[0m \u001b[0mclusters\u001b[0m \u001b[1;33m=\u001b[0m \u001b[0mcluster\u001b[0m\u001b[1;33m.\u001b[0m\u001b[0mtestClustering\u001b[0m\u001b[1;33m(\u001b[0m\u001b[1;36m4\u001b[0m\u001b[1;33m,\u001b[0m \u001b[1;36m1.5\u001b[0m\u001b[1;33m,\u001b[0m \u001b[0mstr\u001b[0m\u001b[1;33m(\u001b[0m\u001b[0midRecipe\u001b[0m\u001b[1;33m)\u001b[0m\u001b[1;33m)\u001b[0m\u001b[1;33m\u001b[0m\u001b[0m\n\u001b[0m\u001b[1;32m     40\u001b[0m         \u001b[0mdegreeClusters\u001b[0m\u001b[1;33m.\u001b[0m\u001b[0mappend\u001b[0m\u001b[1;33m(\u001b[0m\u001b[0mclusters\u001b[0m\u001b[1;33m)\u001b[0m\u001b[1;33m\u001b[0m\u001b[0m\n\u001b[1;32m     41\u001b[0m \u001b[1;33m\u001b[0m\u001b[0m\n",
      "\u001b[0;32mC:\\Users\\albert\\Documents\\Fuzzy Logic Project 2016\\FuzzyFoodieFarm\\cluster_recipes.py\u001b[0m in \u001b[0;36mtestClustering\u001b[0;34m(n_centers, m, idList)\u001b[0m\n\u001b[1;32m     39\u001b[0m \u001b[1;31m#The function below tests clustering the data\u001b[0m\u001b[1;33m\u001b[0m\u001b[1;33m\u001b[0m\u001b[0m\n\u001b[1;32m     40\u001b[0m \u001b[1;32mdef\u001b[0m \u001b[0mtestClustering\u001b[0m\u001b[1;33m(\u001b[0m\u001b[0mn_centers\u001b[0m\u001b[1;33m,\u001b[0m \u001b[0mm\u001b[0m\u001b[1;33m,\u001b[0m \u001b[0midList\u001b[0m\u001b[1;33m)\u001b[0m\u001b[1;33m:\u001b[0m\u001b[1;33m\u001b[0m\u001b[0m\n\u001b[0;32m---> 41\u001b[0;31m     \u001b[0mtest_data\u001b[0m \u001b[1;33m=\u001b[0m \u001b[0mgetPredictionNutrients\u001b[0m\u001b[1;33m(\u001b[0m\u001b[0midList\u001b[0m\u001b[1;33m)\u001b[0m\u001b[1;33m\u001b[0m\u001b[0m\n\u001b[0m\u001b[1;32m     42\u001b[0m     \u001b[1;31m# train the 100 examples\u001b[0m\u001b[1;33m\u001b[0m\u001b[1;33m\u001b[0m\u001b[0m\n\u001b[1;32m     43\u001b[0m     \u001b[1;32mwith\u001b[0m \u001b[0mopen\u001b[0m\u001b[1;33m(\u001b[0m\u001b[1;34m'cluster.pkl'\u001b[0m\u001b[1;33m,\u001b[0m \u001b[1;34m'rb'\u001b[0m\u001b[1;33m)\u001b[0m \u001b[1;32mas\u001b[0m \u001b[0mf\u001b[0m\u001b[1;33m:\u001b[0m\u001b[1;33m\u001b[0m\u001b[0m\n",
      "\u001b[0;32mC:\\Users\\albert\\Documents\\Fuzzy Logic Project 2016\\FuzzyFoodieFarm\\cluster_recipes.py\u001b[0m in \u001b[0;36mgetPredictionNutrients\u001b[0;34m(idRecipe)\u001b[0m\n\u001b[1;32m     29\u001b[0m     \u001b[0mrecipeInfo\u001b[0m \u001b[1;33m=\u001b[0m \u001b[0mresponse\u001b[0m\u001b[1;33m.\u001b[0m\u001b[0mbody\u001b[0m\u001b[1;33m\u001b[0m\u001b[0m\n\u001b[1;32m     30\u001b[0m     \u001b[1;31m# get all of the nutrition information\u001b[0m\u001b[1;33m\u001b[0m\u001b[1;33m\u001b[0m\u001b[0m\n\u001b[0;32m---> 31\u001b[0;31m     \u001b[0mrecipeNutritions\u001b[0m \u001b[1;33m=\u001b[0m \u001b[0mrecipeInfo\u001b[0m\u001b[1;33m[\u001b[0m\u001b[1;34m'nutrition'\u001b[0m\u001b[1;33m]\u001b[0m\u001b[1;33m[\u001b[0m\u001b[1;34m'nutrients'\u001b[0m\u001b[1;33m]\u001b[0m\u001b[1;33m\u001b[0m\u001b[0m\n\u001b[0m\u001b[1;32m     32\u001b[0m     \u001b[1;31m# create dict where each key is a nutrition and its value is the value of the nutrition\u001b[0m\u001b[1;33m\u001b[0m\u001b[1;33m\u001b[0m\u001b[0m\n\u001b[1;32m     33\u001b[0m     \u001b[0mnutritionsDict\u001b[0m \u001b[1;33m=\u001b[0m \u001b[1;33m{\u001b[0m\u001b[0mnutrition\u001b[0m\u001b[1;33m[\u001b[0m\u001b[1;34m'title'\u001b[0m\u001b[1;33m]\u001b[0m\u001b[1;33m:\u001b[0m \u001b[0mnutrition\u001b[0m\u001b[1;33m[\u001b[0m\u001b[1;34m'percentOfDailyNeeds'\u001b[0m\u001b[1;33m]\u001b[0m \u001b[1;32mfor\u001b[0m \u001b[0mnutrition\u001b[0m \u001b[1;32min\u001b[0m \u001b[0mrecipeNutritions\u001b[0m\u001b[1;33m}\u001b[0m\u001b[1;31m# if nutrition['title'] in selectedNutritions}\u001b[0m\u001b[1;33m\u001b[0m\u001b[0m\n",
      "\u001b[0;31mKeyError\u001b[0m: 'nutrition'"
     ]
    }
   ],
   "source": [
    "# iPython widgets, alle possibilities:\n",
    "from IPython.html import widgets\n",
    "from ipywidgets import *\n",
    "from IPython.display import display\n",
    "import pandas as pd\n",
    "import unirest\n",
    "import fuzzyTimeRatio as fuzzyTime\n",
    "import cluster_recipes as cluster\n",
    "import defuzzifyInputs as di\n",
    "import heapq\n",
    "from IPython.display import clear_output\n",
    "from search import doTheSearch\n",
    "\n",
    "activities = ['Post-workout', 'Study', 'Life', 'Workout']\n",
    "searchterms = widgets.Text(description='Keywords: ', margin = '10px')\n",
    "cuisine = widgets.Text(description='Cuisine: ', margin = '10px')\n",
    "time_available = widgets.IntText(description='Time Available: ', margin = '10px')\n",
    "activity = widgets.Dropdown(options=activities, description='What are you going to do?:', margin = '10px', button_style='info')\n",
    "\n",
    "tab1_children = [searchterms, cuisine, time_available, activity]\n",
    "\n",
    "tab1 = VBox(children=tab1_children)\n",
    "\n",
    "i = widgets.Accordion(children=[tab1], border_color='black', margin = '10px')\n",
    "\n",
    "i.set_title(0,\"Search for a recipe!\")\n",
    "button = widgets.Button(description=\"Search\", icon='check', button_style='success', width='100px', margin = '10px')\n",
    "display(i)\n",
    "display(button)\n",
    "button.on_click(doTheSearch)"
   ]
  },
  {
   "cell_type": "code",
   "execution_count": null,
   "metadata": {
    "collapsed": true
   },
   "outputs": [],
   "source": []
  }
 ],
 "metadata": {
  "anaconda-cloud": {},
  "kernelspec": {
   "display_name": "Python 2",
   "language": "python",
   "name": "python2"
  },
  "language_info": {
   "codemirror_mode": {
    "name": "ipython",
    "version": 2
   },
   "file_extension": ".py",
   "mimetype": "text/x-python",
   "name": "python",
   "nbconvert_exporter": "python",
   "pygments_lexer": "ipython2",
   "version": "2.7.11"
  },
  "widgets": {
   "state": {
    "a53dd173b75d495aace18aa01dd37a29": {
     "views": [
      {
       "cell_index": 0
      }
     ]
    },
    "aa3df923ccb942d5a30dc9f5ced95c3d": {
     "views": [
      {
       "cell_index": 0
      }
     ]
    }
   },
   "version": "1.2.0"
  }
 },
 "nbformat": 4,
 "nbformat_minor": 0
}

{
 "cells": [
  {
   "cell_type": "code",
   "execution_count": 1,
   "metadata": {
    "collapsed": false
   },
   "outputs": [
    {
     "data": {
      "text/plain": [
       "[0.39999999999999991, 0.60000000000000009, 0.0, 0.0]"
      ]
     },
     "execution_count": 1,
     "metadata": {},
     "output_type": "execute_result"
    }
   ],
   "source": [
    "import unirest\n",
    "import fuzzyTimeRatio as fuzzyTime\n",
    "import pandas as pd\n",
    "from __future__ import division, print_function\n",
    "import numpy as np\n",
    "import matplotlib.pyplot as plt\n",
    "import skfuzzy as fuzz\n",
    "\n",
    "recipes = unirest.get(\"https://spoonacular-recipe-food-nutrition-v1.p.mashape.com/recipes/541391/information?includeNutrition=true\",\n",
    "  headers={\n",
    "    \"X-Mashape-Key\": \"uI9T1GTt8nmshcUUWJOjq8TQNGBgp1P9Zffjsn7dAbkmTSDt1k\",\n",
    "    \"Accept\": \"application/json\"\n",
    "  }\n",
    ")\n",
    "# present data properly\n",
    "recipeInfo = recipes.body\n",
    "# get all of the nutrition information\n",
    "recipeNutritions = recipeInfo['nutrition']['nutrients']\n",
    "# create dict where each key is a nutrition and its value is the value of the nutrition\n",
    "nutritionsDict = {nutrition['title']: nutrition['percentOfDailyNeeds'] for nutrition in recipeNutritions}\n",
    "all_keys = ['Caffeine', 'Calories', 'Carbohydrates', 'Cholesterol', 'Fat', 'Fiber', 'Protein', 'Saturated Fat', 'Sugar', 'Sodium']\n",
    "nutrition_vector = [nutritionsDict[nutrition] if nutrition in nutritionsDict else 0 for nutrition in all_keys]\n",
    "nutrition_vector = np.matrix(nutrition_vector)\n",
    "\n",
    "\n",
    "# fuzzify ratio\n",
    "ratio = 0.4\n",
    "_, ratio_degrees = fuzzyTime.member_of_function(ratio)\n",
    "ratio_degrees"
   ]
  },
  {
   "cell_type": "code",
   "execution_count": 2,
   "metadata": {
    "collapsed": false
   },
   "outputs": [],
   "source": [
    "import cluster_recipes\n",
    "_, u = cluster_recipes.testClustering(3, 1.5, [541391])"
   ]
  },
  {
   "cell_type": "code",
   "execution_count": 3,
   "metadata": {
    "collapsed": false
   },
   "outputs": [
    {
     "data": {
      "text/plain": [
       "array([[  1.00821608e-01],\n",
       "       [  8.98929103e-01],\n",
       "       [  2.49288509e-04]])"
      ]
     },
     "execution_count": 3,
     "metadata": {},
     "output_type": "execute_result"
    }
   ],
   "source": [
    "u"
   ]
  },
  {
   "cell_type": "code",
   "execution_count": 4,
   "metadata": {
    "collapsed": true
   },
   "outputs": [],
   "source": [
    "ratio_ample = ratio_degrees[0]\n",
    "ratio_comfortable = ratio_degrees[1]\n",
    "ratio_hasty = ratio_degrees[2]\n",
    "ratio_impossible = ratio_degrees[3]\n",
    "\n",
    "activity_low = u[0]\n",
    "activity_medium = u[1]\n",
    "activity_high = u[2]"
   ]
  },
  {
   "cell_type": "code",
   "execution_count": 5,
   "metadata": {
    "collapsed": true
   },
   "outputs": [],
   "source": [
    "x_fit = np.arange(0, 1.1, 0.1)\n",
    "fit_lo = fuzz.trimf(x_fit, [0, 0, 0.5])\n",
    "fit_md = fuzz.trimf(x_fit, [0, 0.5, 1])\n",
    "fit_hi = fuzz.trimf(x_fit, [0.5, 1, 1])"
   ]
  },
  {
   "cell_type": "code",
   "execution_count": 6,
   "metadata": {
    "collapsed": false
   },
   "outputs": [],
   "source": [
    "activation_rule1 = np.fmin(ratio_impossible, fit_lo)\n",
    "\n",
    "rule2 = np.fmin(ratio_hasty, np.fmax(activity_medium, activity_high))\n",
    "activation_rule2 = np.fmin(rule2, fit_md)\n",
    "\n",
    "activation_rule3 = np.fmin(activity_low, fit_lo)\n",
    "\n",
    "rule4 = np.fmin(ratio_ample, np.fmax(activity_medium, activity_high))\n",
    "activation_rule4 = np.fmin(rule4, fit_hi)\n",
    "\n",
    "rule5 = np.fmin(ratio_comfortable, activity_medium)\n",
    "activation_rule5 = np.fmin(rule5, fit_md)\n",
    "\n",
    "rule6 = np.fmin(ratio_comfortable, activity_high)\n",
    "activation_rule6 = np.fmin(rule6, fit_hi)"
   ]
  },
  {
   "cell_type": "code",
   "execution_count": 7,
   "metadata": {
    "collapsed": false
   },
   "outputs": [
    {
     "data": {
      "text/plain": [
       "0.53221399091169019"
      ]
     },
     "execution_count": 7,
     "metadata": {},
     "output_type": "execute_result"
    }
   ],
   "source": [
    "# Aggregate all three output membership functions together\n",
    "aggregated = np.fmax(activation_rule1,\n",
    "                     np.fmax(activation_rule2, np.fmax(activation_rule3, np.fmax(activation_rule4, np.fmax(activation_rule5, activation_rule6)))))\n",
    "\n",
    "fit = fuzz.defuzz(x_fit, aggregated, 'centroid')\n",
    "fit"
   ]
  },
  {
   "cell_type": "code",
   "execution_count": null,
   "metadata": {
    "collapsed": true
   },
   "outputs": [],
   "source": []
  }
 ],
 "metadata": {
  "anaconda-cloud": {},
  "kernelspec": {
   "display_name": "Python [py27]",
   "language": "python",
   "name": "Python [py27]"
  },
  "language_info": {
   "codemirror_mode": {
    "name": "ipython",
    "version": 2
   },
   "file_extension": ".py",
   "mimetype": "text/x-python",
   "name": "python",
   "nbconvert_exporter": "python",
   "pygments_lexer": "ipython2",
   "version": "2.7.12"
  }
 },
 "nbformat": 4,
 "nbformat_minor": 0
}

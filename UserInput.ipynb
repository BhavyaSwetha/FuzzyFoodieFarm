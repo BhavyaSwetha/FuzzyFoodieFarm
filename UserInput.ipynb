{
 "cells": [
  {
   "cell_type": "code",
   "execution_count": 13,
   "metadata": {
    "collapsed": false
   },
   "outputs": [
    {
     "name": "stdout",
     "output_type": "stream",
     "text": [
      "       id                                              title  readyInMinutes\n",
      "0  831353  Slow Cooker Chicken Burrito Bowls with Spirali...              45\n",
      "1  832819                     Marinated Chicken Fajita Salad              30\n",
      "2  833362                          Mexican Chicken Casserole              30\n",
      "3  834059                        Creamy Chicken Fajita Pasta              25\n",
      "        id                                              title  readyInMinutes\n",
      "0   525761  Shrimp Burgers with Chipotle Cream & Coconut P...              45\n",
      "1   473511                                       Taco Burgers              25\n",
      "2   519789   Jalapeno Turkey Burgers with Cheddar & Guacamole              45\n",
      "3   492923  Mexican Black Bean & Quinoa Burgers with Homem...              45\n",
      "4   525635                                Taco Rubbed Burgers              45\n",
      "5   522204                               Stuffed Taco Burgers              90\n",
      "6   509500                Leftovers: Mexican Inspired Burgers              15\n",
      "7   665901                                    Fajita\" Burgers              50\n",
      "8   505924                                    Mexican Burgers              45\n",
      "9   558528                           Guacamole Turkey Burgers              25\n",
      "10  609946  Smoky Chipotle Cheddar Burgers with Mexican St...              40\n",
      "11  604740                             Chicken Fajita Burgers              20\n",
      "12  552169  Salsa Verde Burgers with Fontina, Watermelon a...              30\n",
      "13  608852                       Spicy Guacamole Bacon Burger              45\n",
      "14  793772            Bacon Wrapped Guacamole Stuffed Burgers              30\n"
     ]
    }
   ],
   "source": [
    "# iPython widgets, alle possibilities:\n",
    "from IPython.html import widgets\n",
    "from ipywidgets import *\n",
    "from IPython.display import display\n",
    "import pandas as pd\n",
    "import unirest\n",
    "\n",
    "def doTheSearch(button):\n",
    "    url = \"https://spoonacular-recipe-food-nutrition-v1.p.mashape.com/recipes/search?number=15&offset=0&query=\" \n",
    "    url += searchterms.value +\"&type=main+course&cuisine=\" + cuisine.value\n",
    "    recipes = unirest.get(url,\n",
    "      headers={\n",
    "        \"X-Mashape-Key\": \"uI9T1GTt8nmshcUUWJOjq8TQNGBgp1P9Zffjsn7dAbkmTSDt1k\",\n",
    "        \"Accept\": \"application/json\"\n",
    "      }\n",
    "    )\n",
    "\n",
    "    testData = recipes.body\n",
    "    testFrame = pd.DataFrame(testData['results'], columns=['id', 'title', 'readyInMinutes'])\n",
    "    print(testFrame.to_string())\n",
    "\n",
    "\n",
    "searchterms = widgets.Text(description='Keywords: ', margin = '10px')\n",
    "cuisine = widgets.Text(description='Cuisine: ', margin = '10px')\n",
    "\n",
    "tab1_children = [searchterms, cuisine]\n",
    "\n",
    "tab1 = VBox(children=tab1_children)\n",
    "\n",
    "i = widgets.Accordion(children=[tab1], border_color='black', margin = '10px')\n",
    "\n",
    "i.set_title(0,\"Search for a recipe!\")\n",
    "button = widgets.Button(description=\"Search\", icon='check', button_style='success', width='100px', margin = '10px')\n",
    "display(i)\n",
    "display(button)\n",
    "button.on_click(doTheSearch)"
   ]
  },
  {
   "cell_type": "code",
   "execution_count": null,
   "metadata": {
    "collapsed": true
   },
   "outputs": [],
   "source": []
  }
 ],
 "metadata": {
  "anaconda-cloud": {},
  "kernelspec": {
   "display_name": "Python [py27]",
   "language": "python",
   "name": "Python [py27]"
  },
  "language_info": {
   "codemirror_mode": {
    "name": "ipython",
    "version": 2
   },
   "file_extension": ".py",
   "mimetype": "text/x-python",
   "name": "python",
   "nbconvert_exporter": "python",
   "pygments_lexer": "ipython2",
   "version": "2.7.12"
  }
 },
 "nbformat": 4,
 "nbformat_minor": 0
}

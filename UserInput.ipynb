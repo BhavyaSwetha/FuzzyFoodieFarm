{
 "cells": [
  {
   "cell_type": "code",
   "execution_count": 1,
   "metadata": {
    "collapsed": false
   },
   "outputs": [
    {
     "name": "stdout",
     "output_type": "stream",
     "text": [
      "       id                                              title  readyInMinutes\n",
      "0  834986                          Skinny Chicken Enchiladas              45\n",
      "1  831353  Slow Cooker Chicken Burrito Bowls with Spirali...              45\n",
      "2  832819                     Marinated Chicken Fajita Salad              30\n",
      "3  835345                      Honey Lime Chicken Enchiladas              50\n",
      "4  833362                          Mexican Chicken Casserole              30\n",
      "5  834059                        Creamy Chicken Fajita Pasta              25\n",
      "5                          Creamy Chicken Fajita Pasta\n",
      "4                            Mexican Chicken Casserole\n",
      "2                       Marinated Chicken Fajita Salad\n",
      "0                            Skinny Chicken Enchiladas\n",
      "1    Slow Cooker Chicken Burrito Bowls with Spirali...\n",
      "Name: title, dtype: object\n"
     ]
    }
   ],
   "source": [
    "# iPython widgets, alle possibilities:\n",
    "from IPython.html import widgets\n",
    "from ipywidgets import *\n",
    "from IPython.display import display\n",
    "import pandas as pd\n",
    "import unirest\n",
    "import fuzzyTimeRatio as fuzzyTime\n",
    "import cluster_recipes as cluster\n",
    "import defuzzifyInputs as di\n",
    "import heapq\n",
    "from IPython.display import clear_output\n",
    "\n",
    "def doTheSearch(button):\n",
    "    clear_output()\n",
    "    # call from api\n",
    "    url = \"https://spoonacular-recipe-food-nutrition-v1.p.mashape.com/recipes/search?number=15&offset=0&query=\" \n",
    "    url += searchterms.value +\"&type=main+course&cuisine=\" + cuisine.value\n",
    "    recipes = unirest.get(url,\n",
    "      headers={\n",
    "        \"X-Mashape-Key\": \"uI9T1GTt8nmshcUUWJOjq8TQNGBgp1P9Zffjsn7dAbkmTSDt1k\",\n",
    "        \"Accept\": \"application/json\"\n",
    "      }\n",
    "    )\n",
    "\n",
    "    # present data properly\n",
    "    testData = recipes.body\n",
    "    testFrame = pd.DataFrame(testData['results'], columns=['id', 'title', 'readyInMinutes'])\n",
    "    print testFrame\n",
    "    # fuzzify ratio\n",
    "    degreeRatios = []\n",
    "    ratios = testFrame.get('readyInMinutes')/int(time_available.value)\n",
    "    for ratio in ratios: \n",
    "        _, degreesRatio = fuzzyTime.member_of_function(ratio)\n",
    "        degreeRatios.append(degreesRatio)\n",
    "\n",
    "    degreeClusters = []\n",
    "    # fuzzify activity\n",
    "    recipeIds = list(testFrame.id.values)\n",
    "    for i in range(len(recipeIds)):\n",
    "        idRecipe = recipeIds[i]\n",
    "        clusteringResponse = cluster.testClustering(4, 1.5, str(idRecipe))\n",
    "        # if recipe id exists\n",
    "        if clusteringResponse != 0:\n",
    "            _, clusters = clusteringResponse\n",
    "            degreeClusters.append(clusters)\n",
    "        else: \n",
    "            degreeRatios.pop(i)\n",
    "    \n",
    "    crisp_outputs = []\n",
    "    for i in range(len(degreeRatios)): \n",
    "        degreesRatio = degreeRatios[i]\n",
    "        degreesClusters = degreeClusters[i]\n",
    "        output = di.defuzzify(degreesRatio, degreesClusters, activities, activity.value)\n",
    "        crisp_outputs.append(output)\n",
    "    \n",
    "    sortedIndices = heapq.nlargest(len(crisp_outputs), xrange(len(crisp_outputs)), key=crisp_outputs.__getitem__)[:5]\n",
    "    rankedRecipes = testFrame.ix[sortedIndices]\n",
    "    \n",
    "    print rankedRecipes['title']\n",
    "\n",
    "activities = ['Post-workout', 'Study', 'Life', 'Workout']\n",
    "searchterms = widgets.Text(description='Keywords: ', margin = '10px')\n",
    "cuisine = widgets.Text(description='Cuisine: ', margin = '10px')\n",
    "time_available = widgets.IntText(description='Time Available: ', margin = '10px')\n",
    "activity = widgets.Dropdown(options=activities, description='What are you going to do?:', margin = '10px', button_style='info')\n",
    "\n",
    "tab1_children = [searchterms, cuisine, time_available, activity]\n",
    "\n",
    "tab1 = VBox(children=tab1_children)\n",
    "\n",
    "i = widgets.Accordion(children=[tab1], border_color='black', margin = '10px')\n",
    "\n",
    "i.set_title(0,\"Search for a recipe!\")\n",
    "button = widgets.Button(description=\"Search\", icon='check', button_style='success', width='100px', margin = '10px')\n",
    "display(i)\n",
    "display(button)\n",
    "button.on_click(doTheSearch)"
   ]
  },
  {
   "cell_type": "code",
   "execution_count": null,
   "metadata": {
    "collapsed": true
   },
   "outputs": [],
   "source": []
  }
 ],
 "metadata": {
  "anaconda-cloud": {},
  "kernelspec": {
   "display_name": "Python [py27]",
   "language": "python",
   "name": "Python [py27]"
  },
  "language_info": {
   "codemirror_mode": {
    "name": "ipython",
    "version": 2
   },
   "file_extension": ".py",
   "mimetype": "text/x-python",
   "name": "python",
   "nbconvert_exporter": "python",
   "pygments_lexer": "ipython2",
   "version": "2.7.12"
  }
 },
 "nbformat": 4,
 "nbformat_minor": 0
}

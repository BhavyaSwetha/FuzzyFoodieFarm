{
 "cells": [
  {
   "cell_type": "code",
   "execution_count": 31,
   "metadata": {
    "collapsed": false
   },
   "outputs": [
    {
     "name": "stdout",
     "output_type": "stream",
     "text": [
      "hasty\n",
      "hasty\n",
      "comfortable\n",
      "impossible\n",
      "comfortable\n",
      "comfortable\n",
      "[{u'amount': 257.8, u'percentOfDailyNeeds': 12.89, u'unit': u'cal', u'title': u'Calories'}, {u'amount': 8.86, u'percentOfDailyNeeds': 13.63, u'unit': u'g', u'title': u'Fat'}, {u'amount': 3.81, u'percentOfDailyNeeds': 23.8, u'unit': u'g', u'title': u'Saturated Fat'}, {u'amount': 29.83, u'percentOfDailyNeeds': 9.94, u'unit': u'g', u'title': u'Carbohydrates'}, {u'amount': 5.19, u'percentOfDailyNeeds': 5.77, u'unit': u'g', u'title': u'Sugar'}, {u'amount': 32.58, u'percentOfDailyNeeds': 10.86, u'unit': u'mg', u'title': u'Cholesterol'}, {u'amount': 828.23, u'percentOfDailyNeeds': 36.01, u'unit': u'mg', u'title': u'Sodium'}, {u'amount': 15.03, u'percentOfDailyNeeds': 30.06, u'unit': u'g', u'title': u'Protein'}, {u'amount': 23.42, u'percentOfDailyNeeds': 33.45, u'unit': u'\\xb5g', u'title': u'Selenium'}, {u'amount': 5.81, u'percentOfDailyNeeds': 29.06, u'unit': u'mg', u'title': u'Vitamin B3'}, {u'amount': 245.79, u'percentOfDailyNeeds': 24.58, u'unit': u'mg', u'title': u'Phosphorus'}, {u'amount': 0.38, u'percentOfDailyNeeds': 18.87, u'unit': u'mg', u'title': u'Manganese'}, {u'amount': 0.37, u'percentOfDailyNeeds': 18.69, u'unit': u'mg', u'title': u'Vitamin B6'}, {u'amount': 0.28, u'percentOfDailyNeeds': 18.59, u'unit': u'mg', u'title': u'Vitamin B1'}, {u'amount': 70.48, u'percentOfDailyNeeds': 17.62, u'unit': u'\\xb5g', u'title': u'Folate'}, {u'amount': 166.7, u'percentOfDailyNeeds': 16.67, u'unit': u'mg', u'title': u'Calcium'}, {u'amount': 2.82, u'percentOfDailyNeeds': 15.68, u'unit': u'mg', u'title': u'Iron'}, {u'amount': 661.34, u'percentOfDailyNeeds': 13.23, u'unit': u'IU', u'title': u'Vitamin A'}, {u'amount': 443.74, u'percentOfDailyNeeds': 12.68, u'unit': u'mg', u'title': u'Potassium'}, {u'amount': 0.19, u'percentOfDailyNeeds': 11.43, u'unit': u'mg', u'title': u'Vitamin B2'}, {u'amount': 2.61, u'percentOfDailyNeeds': 10.43, u'unit': u'g', u'title': u'Fiber'}, {u'amount': 9.77, u'percentOfDailyNeeds': 9.31, u'unit': u'\\xb5g', u'title': u'Vitamin K'}, {u'amount': 34.21, u'percentOfDailyNeeds': 8.55, u'unit': u'mg', u'title': u'Magnesium'}, {u'amount': 1.27, u'percentOfDailyNeeds': 8.44, u'unit': u'mg', u'title': u'Vitamin E'}, {u'amount': 6.85, u'percentOfDailyNeeds': 8.31, u'unit': u'mg', u'title': u'Vitamin C'}, {u'amount': 0.16, u'percentOfDailyNeeds': 8.01, u'unit': u'mg', u'title': u'Copper'}, {u'amount': 0.74, u'percentOfDailyNeeds': 7.36, u'unit': u'mg', u'title': u'Vitamin B5'}, {u'amount': 1.09, u'percentOfDailyNeeds': 7.27, u'unit': u'mg', u'title': u'Zinc'}, {u'amount': 0.26, u'percentOfDailyNeeds': 4.31, u'unit': u'\\xb5g', u'title': u'Vitamin B12'}]\n",
      "[{u'amount': 382.11, u'percentOfDailyNeeds': 19.11, u'unit': u'cal', u'title': u'Calories'}, {u'amount': 13.09, u'percentOfDailyNeeds': 20.14, u'unit': u'g', u'title': u'Fat'}, {u'amount': 2.13, u'percentOfDailyNeeds': 13.33, u'unit': u'g', u'title': u'Saturated Fat'}, {u'amount': 44.32, u'percentOfDailyNeeds': 14.77, u'unit': u'g', u'title': u'Carbohydrates'}, {u'amount': 6.97, u'percentOfDailyNeeds': 7.75, u'unit': u'g', u'title': u'Sugar'}, {u'amount': 49.58, u'percentOfDailyNeeds': 16.53, u'unit': u'mg', u'title': u'Cholesterol'}, {u'amount': 1336.97, u'percentOfDailyNeeds': 58.13, u'unit': u'mg', u'title': u'Sodium'}, {u'amount': 25.97, u'percentOfDailyNeeds': 51.94, u'unit': u'g', u'title': u'Protein'}, {u'amount': 9785.75, u'percentOfDailyNeeds': 195.71, u'unit': u'IU', u'title': u'Vitamin A'}, {u'amount': 11.91, u'percentOfDailyNeeds': 59.57, u'unit': u'mg', u'title': u'Vitamin B3'}, {u'amount': 1.11, u'percentOfDailyNeeds': 55.52, u'unit': u'mg', u'title': u'Vitamin B6'}, {u'amount': 13.87, u'percentOfDailyNeeds': 55.46, u'unit': u'g', u'title': u'Fiber'}, {u'amount': 1401.79, u'percentOfDailyNeeds': 40.05, u'unit': u'mg', u'title': u'Potassium'}, {u'amount': 27.48, u'percentOfDailyNeeds': 39.25, u'unit': u'\\xb5g', u'title': u'Selenium'}, {u'amount': 363.11, u'percentOfDailyNeeds': 36.31, u'unit': u'mg', u'title': u'Phosphorus'}, {u'amount': 133.28, u'percentOfDailyNeeds': 33.32, u'unit': u'\\xb5g', u'title': u'Folate'}, {u'amount': 0.65, u'percentOfDailyNeeds': 32.52, u'unit': u'mg', u'title': u'Manganese'}, {u'amount': 31.55, u'percentOfDailyNeeds': 30.05, u'unit': u'\\xb5g', u'title': u'Vitamin K'}, {u'amount': 2.94, u'percentOfDailyNeeds': 29.44, u'unit': u'mg', u'title': u'Vitamin B5'}, {u'amount': 0.56, u'percentOfDailyNeeds': 27.96, u'unit': u'mg', u'title': u'Copper'}, {u'amount': 107.93, u'percentOfDailyNeeds': 26.98, u'unit': u'mg', u'title': u'Magnesium'}, {u'amount': 20.44, u'percentOfDailyNeeds': 24.78, u'unit': u'mg', u'title': u'Vitamin C'}, {u'amount': 0.39, u'percentOfDailyNeeds': 23.17, u'unit': u'mg', u'title': u'Vitamin B2'}, {u'amount': 0.34, u'percentOfDailyNeeds': 22.91, u'unit': u'mg', u'title': u'Vitamin B1'}, {u'amount': 4.03, u'percentOfDailyNeeds': 22.39, u'unit': u'mg', u'title': u'Iron'}, {u'amount': 2.9, u'percentOfDailyNeeds': 19.36, u'unit': u'mg', u'title': u'Vitamin E'}, {u'amount': 1.95, u'percentOfDailyNeeds': 12.99, u'unit': u'mg', u'title': u'Zinc'}, {u'amount': 93.61, u'percentOfDailyNeeds': 9.36, u'unit': u'mg', u'title': u'Calcium'}, {u'amount': 0.15, u'percentOfDailyNeeds': 2.52, u'unit': u'\\xb5g', u'title': u'Vitamin B12'}]\n",
      "[{u'amount': 637.07, u'percentOfDailyNeeds': 31.85, u'unit': u'cal', u'title': u'Calories'}, {u'amount': 50.09, u'percentOfDailyNeeds': 77.06, u'unit': u'g', u'title': u'Fat'}, {u'amount': 20.54, u'percentOfDailyNeeds': 128.36, u'unit': u'g', u'title': u'Saturated Fat'}, {u'amount': 23.87, u'percentOfDailyNeeds': 7.96, u'unit': u'g', u'title': u'Carbohydrates'}, {u'amount': 7.05, u'percentOfDailyNeeds': 7.83, u'unit': u'g', u'title': u'Sugar'}, {u'amount': 72.57, u'percentOfDailyNeeds': 24.19, u'unit': u'mg', u'title': u'Cholesterol'}, {u'amount': 294.35, u'percentOfDailyNeeds': 12.8, u'unit': u'mg', u'title': u'Sodium'}, {u'amount': 29.86, u'percentOfDailyNeeds': 59.72, u'unit': u'g', u'title': u'Protein'}, {u'amount': 116.66, u'percentOfDailyNeeds': 111.1, u'unit': u'\\xb5g', u'title': u'Vitamin K'}, {u'amount': 74.05, u'percentOfDailyNeeds': 89.76, u'unit': u'mg', u'title': u'Vitamin C'}, {u'amount': 1.49, u'percentOfDailyNeeds': 74.29, u'unit': u'mg', u'title': u'Manganese'}, {u'amount': 14.2, u'percentOfDailyNeeds': 71.02, u'unit': u'mg', u'title': u'Vitamin B3'}, {u'amount': 1.23, u'percentOfDailyNeeds': 61.69, u'unit': u'mg', u'title': u'Vitamin B6'}, {u'amount': 39.72, u'percentOfDailyNeeds': 56.75, u'unit': u'\\xb5g', u'title': u'Selenium'}, {u'amount': 2124.55, u'percentOfDailyNeeds': 42.49, u'unit': u'IU', u'title': u'Vitamin A'}, {u'amount': 394.19, u'percentOfDailyNeeds': 39.42, u'unit': u'mg', u'title': u'Phosphorus'}, {u'amount': 9.61, u'percentOfDailyNeeds': 38.46, u'unit': u'g', u'title': u'Fiber'}, {u'amount': 1152.86, u'percentOfDailyNeeds': 32.94, u'unit': u'mg', u'title': u'Potassium'}, {u'amount': 112.62, u'percentOfDailyNeeds': 28.15, u'unit': u'\\xb5g', u'title': u'Folate'}, {u'amount': 2.79, u'percentOfDailyNeeds': 27.87, u'unit': u'mg', u'title': u'Vitamin B5'}, {u'amount': 0.52, u'percentOfDailyNeeds': 26.11, u'unit': u'mg', u'title': u'Copper'}, {u'amount': 0.38, u'percentOfDailyNeeds': 25.63, u'unit': u'mg', u'title': u'Vitamin B1'}, {u'amount': 99.37, u'percentOfDailyNeeds': 24.84, u'unit': u'mg', u'title': u'Magnesium'}, {u'amount': 3.59, u'percentOfDailyNeeds': 23.91, u'unit': u'mg', u'title': u'Vitamin E'}, {u'amount': 0.3, u'percentOfDailyNeeds': 17.41, u'unit': u'mg', u'title': u'Vitamin B2'}, {u'amount': 2.55, u'percentOfDailyNeeds': 17.01, u'unit': u'mg', u'title': u'Zinc'}, {u'amount': 3.02, u'percentOfDailyNeeds': 16.77, u'unit': u'mg', u'title': u'Iron'}, {u'amount': 89.56, u'percentOfDailyNeeds': 8.96, u'unit': u'mg', u'title': u'Calcium'}, {u'amount': 0.23, u'percentOfDailyNeeds': 3.78, u'unit': u'\\xb5g', u'title': u'Vitamin B12'}]\n",
      "[{u'amount': 317.04, u'percentOfDailyNeeds': 15.85, u'unit': u'cal', u'title': u'Calories'}, {u'amount': 10.66, u'percentOfDailyNeeds': 16.41, u'unit': u'g', u'title': u'Fat'}, {u'amount': 5.29, u'percentOfDailyNeeds': 33.09, u'unit': u'g', u'title': u'Saturated Fat'}, {u'amount': 34.74, u'percentOfDailyNeeds': 11.58, u'unit': u'g', u'title': u'Carbohydrates'}, {u'amount': 15.77, u'percentOfDailyNeeds': 17.52, u'unit': u'g', u'title': u'Sugar'}, {u'amount': 62.97, u'percentOfDailyNeeds': 20.99, u'unit': u'mg', u'title': u'Cholesterol'}, {u'amount': 717.45, u'percentOfDailyNeeds': 31.19, u'unit': u'mg', u'title': u'Sodium'}, {u'amount': 21.87, u'percentOfDailyNeeds': 43.73, u'unit': u'g', u'title': u'Protein'}, {u'amount': 368.39, u'percentOfDailyNeeds': 36.84, u'unit': u'mg', u'title': u'Phosphorus'}, {u'amount': 25.01, u'percentOfDailyNeeds': 35.72, u'unit': u'\\xb5g', u'title': u'Selenium'}, {u'amount': 6.62, u'percentOfDailyNeeds': 33.09, u'unit': u'mg', u'title': u'Vitamin B3'}, {u'amount': 0.55, u'percentOfDailyNeeds': 27.41, u'unit': u'mg', u'title': u'Vitamin B6'}, {u'amount': 222.77, u'percentOfDailyNeeds': 22.28, u'unit': u'mg', u'title': u'Calcium'}, {u'amount': 3.56, u'percentOfDailyNeeds': 14.23, u'unit': u'g', u'title': u'Fiber'}, {u'amount': 689.54, u'percentOfDailyNeeds': 13.79, u'unit': u'IU', u'title': u'Vitamin A'}, {u'amount': 51.66, u'percentOfDailyNeeds': 12.92, u'unit': u'mg', u'title': u'Magnesium'}, {u'amount': 1.75, u'percentOfDailyNeeds': 11.66, u'unit': u'mg', u'title': u'Zinc'}, {u'amount': 0.18, u'percentOfDailyNeeds': 10.75, u'unit': u'mg', u'title': u'Vitamin B2'}, {u'amount': 335.36, u'percentOfDailyNeeds': 9.58, u'unit': u'mg', u'title': u'Potassium'}, {u'amount': 0.95, u'percentOfDailyNeeds': 9.46, u'unit': u'mg', u'title': u'Vitamin B5'}, {u'amount': 0.17, u'percentOfDailyNeeds': 8.28, u'unit': u'mg', u'title': u'Manganese'}, {u'amount': 0.46, u'percentOfDailyNeeds': 7.63, u'unit': u'\\xb5g', u'title': u'Vitamin B12'}, {u'amount': 1.32, u'percentOfDailyNeeds': 7.33, u'unit': u'mg', u'title': u'Iron'}, {u'amount': 0.08, u'percentOfDailyNeeds': 5.58, u'unit': u'mg', u'title': u'Vitamin B1'}, {u'amount': 4.03, u'percentOfDailyNeeds': 4.89, u'unit': u'mg', u'title': u'Vitamin C'}, {u'amount': 0.1, u'percentOfDailyNeeds': 4.8, u'unit': u'mg', u'title': u'Copper'}, {u'amount': 0.5, u'percentOfDailyNeeds': 3.32, u'unit': u'mg', u'title': u'Vitamin E'}, {u'amount': 9.19, u'percentOfDailyNeeds': 2.3, u'unit': u'\\xb5g', u'title': u'Folate'}, {u'amount': 1.55, u'percentOfDailyNeeds': 1.47, u'unit': u'\\xb5g', u'title': u'Vitamin K'}, {u'amount': 0.2, u'percentOfDailyNeeds': 1.31, u'unit': u'\\xb5g', u'title': u'Vitamin D'}]\n",
      "[{u'amount': 553.78, u'percentOfDailyNeeds': 27.69, u'unit': u'cal', u'title': u'Calories'}, {u'amount': 26.72, u'percentOfDailyNeeds': 41.11, u'unit': u'g', u'title': u'Fat'}, {u'amount': 13.54, u'percentOfDailyNeeds': 84.63, u'unit': u'g', u'title': u'Saturated Fat'}, {u'amount': 58.15, u'percentOfDailyNeeds': 19.38, u'unit': u'g', u'title': u'Carbohydrates'}, {u'amount': 10.8, u'percentOfDailyNeeds': 12.0, u'unit': u'g', u'title': u'Sugar'}, {u'amount': 75.4, u'percentOfDailyNeeds': 25.13, u'unit': u'mg', u'title': u'Cholesterol'}, {u'amount': 1588.01, u'percentOfDailyNeeds': 69.04, u'unit': u'mg', u'title': u'Sodium'}, {u'amount': 23.59, u'percentOfDailyNeeds': 47.18, u'unit': u'g', u'title': u'Protein'}, {u'amount': 90.08, u'percentOfDailyNeeds': 109.18, u'unit': u'mg', u'title': u'Vitamin C'}, {u'amount': 3830.05, u'percentOfDailyNeeds': 76.6, u'unit': u'IU', u'title': u'Vitamin A'}, {u'amount': 551.42, u'percentOfDailyNeeds': 55.14, u'unit': u'mg', u'title': u'Phosphorus'}, {u'amount': 438.49, u'percentOfDailyNeeds': 43.85, u'unit': u'mg', u'title': u'Calcium'}, {u'amount': 10.4, u'percentOfDailyNeeds': 41.59, u'unit': u'g', u'title': u'Fiber'}, {u'amount': 0.63, u'percentOfDailyNeeds': 31.3, u'unit': u'mg', u'title': u'Vitamin B6'}, {u'amount': 1014.04, u'percentOfDailyNeeds': 28.97, u'unit': u'mg', u'title': u'Potassium'}, {u'amount': 0.52, u'percentOfDailyNeeds': 26.13, u'unit': u'mg', u'title': u'Manganese'}, {u'amount': 102.09, u'percentOfDailyNeeds': 25.52, u'unit': u'mg', u'title': u'Magnesium'}, {u'amount': 4.9, u'percentOfDailyNeeds': 24.49, u'unit': u'mg', u'title': u'Vitamin B3'}, {u'amount': 15.27, u'percentOfDailyNeeds': 21.82, u'unit': u'\\xb5g', u'title': u'Selenium'}, {u'amount': 3.14, u'percentOfDailyNeeds': 20.9, u'unit': u'mg', u'title': u'Zinc'}, {u'amount': 0.35, u'percentOfDailyNeeds': 20.53, u'unit': u'mg', u'title': u'Vitamin B2'}, {u'amount': 3.69, u'percentOfDailyNeeds': 20.51, u'unit': u'mg', u'title': u'Iron'}, {u'amount': 2.75, u'percentOfDailyNeeds': 18.36, u'unit': u'mg', u'title': u'Vitamin E'}, {u'amount': 0.36, u'percentOfDailyNeeds': 17.83, u'unit': u'mg', u'title': u'Copper'}, {u'amount': 0.21, u'percentOfDailyNeeds': 14.07, u'unit': u'mg', u'title': u'Vitamin B1'}, {u'amount': 54.61, u'percentOfDailyNeeds': 13.65, u'unit': u'\\xb5g', u'title': u'Folate'}, {u'amount': 13.3, u'percentOfDailyNeeds': 12.67, u'unit': u'\\xb5g', u'title': u'Vitamin K'}, {u'amount': 0.99, u'percentOfDailyNeeds': 9.91, u'unit': u'mg', u'title': u'Vitamin B5'}, {u'amount': 0.44, u'percentOfDailyNeeds': 7.36, u'unit': u'\\xb5g', u'title': u'Vitamin B12'}, {u'amount': 0.36, u'percentOfDailyNeeds': 2.41, u'unit': u'\\xb5g', u'title': u'Vitamin D'}]\n",
      "[{u'amount': 602.36, u'percentOfDailyNeeds': 30.12, u'unit': u'cal', u'title': u'Calories'}, {u'amount': 23.16, u'percentOfDailyNeeds': 35.63, u'unit': u'g', u'title': u'Fat'}, {u'amount': 9.3, u'percentOfDailyNeeds': 58.1, u'unit': u'g', u'title': u'Saturated Fat'}, {u'amount': 60.33, u'percentOfDailyNeeds': 20.11, u'unit': u'g', u'title': u'Carbohydrates'}, {u'amount': 5.86, u'percentOfDailyNeeds': 6.51, u'unit': u'g', u'title': u'Sugar'}, {u'amount': 109.79, u'percentOfDailyNeeds': 36.6, u'unit': u'mg', u'title': u'Cholesterol'}, {u'amount': 254.62, u'percentOfDailyNeeds': 11.07, u'unit': u'mg', u'title': u'Sodium'}, {u'amount': 38.92, u'percentOfDailyNeeds': 77.84, u'unit': u'g', u'title': u'Protein'}, {u'amount': 76.43, u'percentOfDailyNeeds': 109.18, u'unit': u'\\xb5g', u'title': u'Selenium'}, {u'amount': 81.41, u'percentOfDailyNeeds': 98.67, u'unit': u'mg', u'title': u'Vitamin C'}, {u'amount': 77.79, u'percentOfDailyNeeds': 74.08, u'unit': u'\\xb5g', u'title': u'Vitamin K'}, {u'amount': 14.01, u'percentOfDailyNeeds': 70.05, u'unit': u'mg', u'title': u'Vitamin B3'}, {u'amount': 1.33, u'percentOfDailyNeeds': 66.66, u'unit': u'mg', u'title': u'Vitamin B6'}, {u'amount': 1.3, u'percentOfDailyNeeds': 64.84, u'unit': u'mg', u'title': u'Manganese'}, {u'amount': 520.98, u'percentOfDailyNeeds': 52.1, u'unit': u'mg', u'title': u'Phosphorus'}, {u'amount': 2442.85, u'percentOfDailyNeeds': 48.86, u'unit': u'IU', u'title': u'Vitamin A'}, {u'amount': 379.1, u'percentOfDailyNeeds': 37.91, u'unit': u'mg', u'title': u'Calcium'}, {u'amount': 8.36, u'percentOfDailyNeeds': 33.44, u'unit': u'g', u'title': u'Fiber'}, {u'amount': 5.84, u'percentOfDailyNeeds': 32.46, u'unit': u'mg', u'title': u'Iron'}, {u'amount': 4.5, u'percentOfDailyNeeds': 30.01, u'unit': u'mg', u'title': u'Vitamin E'}, {u'amount': 110.65, u'percentOfDailyNeeds': 27.66, u'unit': u'mg', u'title': u'Magnesium'}, {u'amount': 960.7, u'percentOfDailyNeeds': 27.45, u'unit': u'mg', u'title': u'Potassium'}, {u'amount': 2.44, u'percentOfDailyNeeds': 24.4, u'unit': u'mg', u'title': u'Vitamin B5'}, {u'amount': 0.41, u'percentOfDailyNeeds': 24.21, u'unit': u'mg', u'title': u'Vitamin B2'}, {u'amount': 78.15, u'percentOfDailyNeeds': 19.54, u'unit': u'\\xb5g', u'title': u'Folate'}, {u'amount': 2.75, u'percentOfDailyNeeds': 18.32, u'unit': u'mg', u'title': u'Zinc'}, {u'amount': 0.31, u'percentOfDailyNeeds': 15.42, u'unit': u'mg', u'title': u'Copper'}, {u'amount': 0.22, u'percentOfDailyNeeds': 14.72, u'unit': u'mg', u'title': u'Vitamin B1'}, {u'amount': 0.54, u'percentOfDailyNeeds': 9.06, u'unit': u'\\xb5g', u'title': u'Vitamin B12'}, {u'amount': 0.32, u'percentOfDailyNeeds': 2.13, u'unit': u'\\xb5g', u'title': u'Vitamin D'}]\n",
      "0.97252593\n",
      "0.988336666444\n",
      "[0 2 0 0 0 0]\n"
     ]
    }
   ],
   "source": [
    "# iPython widgets, alle possibilities:\n",
    "from IPython.html import widgets\n",
    "from ipywidgets import *\n",
    "from IPython.display import display\n",
    "import pandas as pd\n",
    "import unirest\n",
    "import fuzzyTimeRatio as fuzzyTime\n",
    "import cluster_recipes as cluster\n",
    "\n",
    "def doTheSearch(button):\n",
    "    # call from api\n",
    "    url = \"https://spoonacular-recipe-food-nutrition-v1.p.mashape.com/recipes/search?number=15&offset=0&query=\" \n",
    "    url += searchterms.value +\"&type=main+course&cuisine=\" + cuisine.value\n",
    "    recipes = unirest.get(url,\n",
    "      headers={\n",
    "        \"X-Mashape-Key\": \"uI9T1GTt8nmshcUUWJOjq8TQNGBgp1P9Zffjsn7dAbkmTSDt1k\",\n",
    "        \"Accept\": \"application/json\"\n",
    "      }\n",
    "    )\n",
    "\n",
    "    # present data properly\n",
    "    testData = recipes.body\n",
    "    testFrame = pd.DataFrame(testData['results'], columns=['id', 'title', 'readyInMinutes'])\n",
    "    \n",
    "    # fuzzify ratio\n",
    "    ratios = testFrame.get('readyInMinutes')/int(time_available.value)\n",
    "    for ratio in ratios: \n",
    "        print fuzzyTime.member_of_function(ratio)\n",
    "\n",
    "    # fuzzify activity\n",
    "    idList = [str(idRecipe) for idRecipe in list(testFrame.id.values)]\n",
    "    clusters = cluster.testClustering(3, 1.5, idList)\n",
    "    print clusters\n",
    "    \n",
    "searchterms = widgets.Text(description='Keywords: ', margin = '10px')\n",
    "cuisine = widgets.Text(description='Cuisine: ', margin = '10px')\n",
    "time_available = widgets.IntText(description='Time Available: ', margin = '10px')\n",
    "\n",
    "tab1_children = [searchterms, cuisine, time_available]\n",
    "\n",
    "tab1 = VBox(children=tab1_children)\n",
    "\n",
    "i = widgets.Accordion(children=[tab1], border_color='black', margin = '10px')\n",
    "\n",
    "i.set_title(0,\"Search for a recipe!\")\n",
    "button = widgets.Button(description=\"Search\", icon='check', button_style='success', width='100px', margin = '10px')\n",
    "display(i)\n",
    "display(button)\n",
    "button.on_click(doTheSearch)"
   ]
  },
  {
   "cell_type": "code",
   "execution_count": null,
   "metadata": {
    "collapsed": true
   },
   "outputs": [],
   "source": []
  }
 ],
 "metadata": {
  "anaconda-cloud": {},
  "kernelspec": {
   "display_name": "Python [py27]",
   "language": "python",
   "name": "Python [py27]"
  },
  "language_info": {
   "codemirror_mode": {
    "name": "ipython",
    "version": 2
   },
   "file_extension": ".py",
   "mimetype": "text/x-python",
   "name": "python",
   "nbconvert_exporter": "python",
   "pygments_lexer": "ipython2",
   "version": "2.7.12"
  }
 },
 "nbformat": 4,
 "nbformat_minor": 0
}

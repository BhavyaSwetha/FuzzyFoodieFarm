{
 "cells": [
  {
   "cell_type": "code",
   "execution_count": 1,
   "metadata": {
    "collapsed": false
   },
   "outputs": [
    {
     "name": "stderr",
     "output_type": "stream",
     "text": [
      "C:\\Users\\Urja\\Anaconda3\\envs\\py27\\lib\\site-packages\\IPython\\html.py:14: ShimWarning: The `IPython.html` package has been deprecated. You should import from `notebook` instead. `IPython.html.widgets` has moved to `ipywidgets`.\n",
      "  \"`IPython.html.widgets` has moved to `ipywidgets`.\", ShimWarning)\n"
     ]
    }
   ],
   "source": [
    "# iPython widgets, alle possibilities:\n",
    "from IPython.html import widgets\n",
    "from ipywidgets import *\n",
    "from IPython.display import display\n",
    "import pandas as pd\n",
    "import unirest\n",
    "\n",
    "def doTheSearch(button):\n",
    "    url = \"https://spoonacular-recipe-food-nutrition-v1.p.mashape.com/recipes/search?number=15&offset=0&query=\" \n",
    "    url += searchterms.value +\"&type=main+course&cuisine=\" + cuisine.value\n",
    "    recipes = unirest.get(url,\n",
    "      headers={\n",
    "        \"X-Mashape-Key\": \"uI9T1GTt8nmshcUUWJOjq8TQNGBgp1P9Zffjsn7dAbkmTSDt1k\",\n",
    "        \"Accept\": \"application/json\"\n",
    "      }\n",
    "    )\n",
    "\n",
    "    testData = recipes.body\n",
    "    testFrame = pd.DataFrame(testData['results'], columns=['id', 'title', 'readyInMinutes'])\n",
    "    print(testFrame.to_string())\n",
    "\n",
    "\n",
    "searchterms = widgets.Text(description='Keywords: ', margin = '10px')\n",
    "cuisine = widgets.Text(description='Cuisine: ', margin = '10px')\n",
    "time_available = widgets.IntText(description='Time Available: ', margin = '10px')\n",
    "\n",
    "tab1_children = [searchterms, cuisine, time_ava]\n",
    "\n",
    "tab1 = VBox(children=tab1_children)\n",
    "\n",
    "i = widgets.Accordion(children=[tab1], border_color='black', margin = '10px')\n",
    "\n",
    "i.set_title(0,\"Search for a recipe!\")\n",
    "button = widgets.Button(description=\"Search\", icon='check', button_style='success', width='100px', margin = '10px')\n",
    "display(i)\n",
    "display(button)\n",
    "button.on_click(doTheSearch)"
   ]
  },
  {
   "cell_type": "code",
   "execution_count": null,
   "metadata": {
    "collapsed": true
   },
   "outputs": [],
   "source": []
  }
 ],
 "metadata": {
  "anaconda-cloud": {},
  "kernelspec": {
   "display_name": "Python [py27]",
   "language": "python",
   "name": "Python [py27]"
  },
  "language_info": {
   "codemirror_mode": {
    "name": "ipython",
    "version": 2
   },
   "file_extension": ".py",
   "mimetype": "text/x-python",
   "name": "python",
   "nbconvert_exporter": "python",
   "pygments_lexer": "ipython2",
   "version": "2.7.12"
  }
 },
 "nbformat": 4,
 "nbformat_minor": 0
}

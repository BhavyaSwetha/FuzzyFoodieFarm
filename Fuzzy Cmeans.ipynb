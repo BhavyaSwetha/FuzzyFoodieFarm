{
 "cells": [
  {
   "cell_type": "markdown",
   "metadata": {},
   "source": [
    "## Pre-processing Data"
   ]
  },
  {
   "cell_type": "code",
   "execution_count": 4,
   "metadata": {
    "collapsed": true
   },
   "outputs": [],
   "source": [
    "import json\n",
    "\n",
    "# get all of the 100 random recipes received from the api (they were saved to a file)\n",
    "recipesNutrients = json.load(open(\"recipesNutrients.txt\"))"
   ]
  },
  {
   "cell_type": "code",
   "execution_count": 38,
   "metadata": {
    "collapsed": false,
    "scrolled": true
   },
   "outputs": [
    {
     "data": {
      "text/plain": [
       "{u'Caffeine': 9.48,\n",
       " u'Calcium': 79.11,\n",
       " u'Calories': 354.6,\n",
       " u'Carbohydrates': 7.9,\n",
       " u'Cholesterol': 115.19,\n",
       " u'Copper': 0.33,\n",
       " u'Fat': 35.72,\n",
       " u'Fiber': 2.44,\n",
       " u'Folate': 14.85,\n",
       " u'Iron': 1.91,\n",
       " u'Magnesium': 39.71,\n",
       " u'Manganese': 0.43,\n",
       " u'Phosphorus': 120.52,\n",
       " u'Potassium': 175.12,\n",
       " u'Protein': 6.8,\n",
       " u'Saturated Fat': 18.61,\n",
       " u'Selenium': 4.84,\n",
       " u'Sodium': 247.17,\n",
       " u'Sugar': 1.9,\n",
       " u'Vitamin A': 1028.38,\n",
       " u'Vitamin B1': 0.03,\n",
       " u'Vitamin B12': 0.22,\n",
       " u'Vitamin B2': 0.12,\n",
       " u'Vitamin B3': 0.24,\n",
       " u'Vitamin B5': 0.45,\n",
       " u'Vitamin B6': 0.05,\n",
       " u'Vitamin D': 0.66,\n",
       " u'Vitamin E': 0.6,\n",
       " u'Vitamin K': 3.01,\n",
       " u'Zinc': 1.15}"
      ]
     },
     "execution_count": 38,
     "metadata": {},
     "output_type": "execute_result"
    }
   ],
   "source": [
    "import unirest\n",
    "\n",
    "# gets one recipe to use to predict after training\n",
    "def nutritions():\n",
    "    response = unirest.get(\"https://spoonacular-recipe-food-nutrition-v1.p.mashape.com/recipes/541391/information?includeNutrition=true\",\n",
    "      headers={\n",
    "        \"X-Mashape-Key\": \"uI9T1GTt8nmshcUUWJOjq8TQNGBgp1P9Zffjsn7dAbkmTSDt1k\",\n",
    "        \"Accept\": \"application/json\"\n",
    "      }\n",
    "    )\n",
    "    recipeInfo = response.body\n",
    "    # get all of the nutrition information\n",
    "    recipeNutritions = recipeInfo['nutrition']['nutrients']\n",
    "    # create dict where each key is a nutrition and its value is the value of the nutrition\n",
    "    nutritionsDict = {nutrition['title']: nutrition['amount'] for nutrition in recipeNutritions}# if nutrition['title'] in selectedNutritions}\n",
    "    return nutritionsDict\n",
    "\n",
    "major_keys = ['Caffeine', 'Calories', 'Carbohydrates', 'Cholesterol', 'Fat', 'Fiber', 'Protein', 'Saturated Fat', 'Sugar', 'Sodium']\n",
    "nutritions = nutritions()\n",
    "nutritions"
   ]
  },
  {
   "cell_type": "code",
   "execution_count": 44,
   "metadata": {
    "collapsed": false
   },
   "outputs": [
    {
     "name": "stdout",
     "output_type": "stream",
     "text": [
      "[u'Sodium', u'Carbohydrates', u'Caffeine', u'Sugar', u'Saturated Fat', u'Fiber', u'Fat', u'Calories', u'Cholesterol', u'Protein']\n"
     ]
    }
   ],
   "source": [
    "# get all of the unique nutrients that are present in random recipes since not each recipe has all of the nutrients\n",
    "all_keys = list(set().union(*(d.keys() for d in recipesNutrients)))\n",
    "all_keys = [key for key in all_keys if key in major_keys]\n",
    "print (all_keys)\n",
    "# save it to a file because we will need it in the future\n",
    "f = open('nutritions.txt', 'w')\n",
    "json.dump(all_keys, f)\n",
    "f.close()\n"
   ]
  },
  {
   "cell_type": "code",
   "execution_count": 45,
   "metadata": {
    "collapsed": false
   },
   "outputs": [],
   "source": [
    "import numpy as np\n",
    "# create the nutrition vector with all of the nutrition keys so each element corresponds to the correct nutrition\n",
    "# this is for the one prediction example\n",
    "nutrition_vector = [nutritions[nutrition] if nutrition in nutritions else 0 for nutrition in all_keys]\n",
    "nutrition_vector = np.matrix(nutrition_vector)"
   ]
  },
  {
   "cell_type": "code",
   "execution_count": 46,
   "metadata": {
    "collapsed": false
   },
   "outputs": [],
   "source": [
    "# create the nutrition vectors for all the 100 random recipes \n",
    "all_nutritions = []\n",
    "for nutritions in recipesNutrients: \n",
    "    vector = [nutritions[nut] if nut in nutritions else 0 for nut in all_keys]\n",
    "    all_nutritions.append(vector)\n",
    "nutrition_vectors = np.matrix(all_nutritions)"
   ]
  },
  {
   "cell_type": "markdown",
   "metadata": {},
   "source": [
    "## Fuzzy C-Means Clustering"
   ]
  },
  {
   "cell_type": "code",
   "execution_count": 56,
   "metadata": {
    "collapsed": false
   },
   "outputs": [
    {
     "name": "stdout",
     "output_type": "stream",
     "text": [
      "[0, 7, 8, 1]\n",
      "Sodium\n",
      "Calories\n",
      "Cholesterol\n",
      "Carbohydrates\n",
      "[0]\n"
     ]
    },
    {
     "data": {
      "image/png": "[encoded data removed]",
      "text/plain": [
       "<matplotlib.figure.Figure at 0x190cbc88>"
      ]
     },
     "metadata": {},
     "output_type": "display_data"
    }
   ],
   "source": [
    "from __future__ import division, print_function\n",
    "import numpy as np\n",
    "import matplotlib.pyplot as plt\n",
    "import skfuzzy as fuzz\n",
    "%matplotlib inline\n",
    "\n",
    "\n",
    "def nLargest(seq, n):\n",
    "    ind = []\n",
    "    for i in range(n):\n",
    "        index = seq.index(max(seq))\n",
    "        ind.append(index)\n",
    "        seq[index] = 0 \n",
    "    return ind\n",
    "        \n",
    "\n",
    "colors = ['b', 'orange', 'g', 'r', 'c', 'm', 'y', 'k', 'Brown', 'ForestGreen']\n",
    "\n",
    "# train the 100 examples\n",
    "cntr, u, u0, d, jm, p, fpc = fuzz.cluster.cmeans(nutrition_vectors.T, 3, 1.5, error=0.005, maxiter=1000, init=None)\n",
    "ind = nLargest((cntr[0].tolist()[0]), 4)\n",
    "print (ind)\n",
    "for i in ind:\n",
    "    print (all_keys[i])\n",
    "# predict one example\n",
    "u, u0, d, jm, p, fpc = fuzz.cluster.cmeans_predict(nutrition_vector.T, cntr, 1.5, error=0.005, maxiter=1000)\n",
    "\n",
    "# get to which cluster the example belongs to\n",
    "cluster_membership = np.argmax(u, axis=0)  # Hardening for visualization\n",
    "print(cluster_membership)\n",
    "\n",
    "# plot the example \n",
    "fig3, ax3 = plt.subplots()\n",
    "ax3.set_title('Random points classifed according to known centers')\n",
    "for j in range(4):\n",
    "    ax3.plot(nutrition_vector[cluster_membership == j, 0],\n",
    "             nutrition_vector[cluster_membership == j, 1], 'o',\n",
    "             label='series ' + str(j))\n",
    "ax3.legend()\n",
    "\n",
    "plt.show()"
   ]
  },
  {
   "cell_type": "markdown",
   "metadata": {},
   "source": [
    "## Experiments"
   ]
  },
  {
   "cell_type": "code",
   "execution_count": 14,
   "metadata": {
    "collapsed": false,
    "scrolled": true
   },
   "outputs": [
    {
     "name": "stdout",
     "output_type": "stream",
     "text": [
      "(2L, 32L)\n",
      "(2L, 32L)\n",
      "(2L, 32L)\n",
      "(2L, 32L)\n",
      "(2L, 32L)\n",
      "(3L, 32L)\n",
      "(3L, 32L)\n",
      "(3L, 32L)\n",
      "(3L, 32L)\n",
      "(3L, 32L)\n",
      "(4L, 32L)\n",
      "(4L, 32L)\n",
      "(4L, 32L)\n",
      "(4L, 32L)\n",
      "(4L, 32L)\n"
     ]
    },
    {
     "data": {
      "text/html": [
       "<div>\n",
       "<table border=\"1\" class=\"dataframe\">\n",
       "  <thead>\n",
       "    <tr style=\"text-align: right;\">\n",
       "      <th></th>\n",
       "      <th>0</th>\n",
       "      <th>1</th>\n",
       "      <th>2</th>\n",
       "      <th>3</th>\n",
       "      <th>4</th>\n",
       "      <th>5</th>\n",
       "      <th>6</th>\n",
       "      <th>7</th>\n",
       "      <th>8</th>\n",
       "      <th>9</th>\n",
       "      <th>10</th>\n",
       "      <th>11</th>\n",
       "      <th>12</th>\n",
       "      <th>13</th>\n",
       "      <th>14</th>\n",
       "    </tr>\n",
       "  </thead>\n",
       "  <tbody>\n",
       "    <tr>\n",
       "      <th>cluster</th>\n",
       "      <td>2.000000</td>\n",
       "      <td>2.000000</td>\n",
       "      <td>2.000000</td>\n",
       "      <td>2.000000</td>\n",
       "      <td>2.000000</td>\n",
       "      <td>3.000000</td>\n",
       "      <td>3.000000</td>\n",
       "      <td>3.000000</td>\n",
       "      <td>3.000000</td>\n",
       "      <td>3.000000</td>\n",
       "      <td>4.000000</td>\n",
       "      <td>4.00000</td>\n",
       "      <td>4.000000</td>\n",
       "      <td>4.000000</td>\n",
       "      <td>4.000000</td>\n",
       "    </tr>\n",
       "    <tr>\n",
       "      <th>m-value</th>\n",
       "      <td>1.200000</td>\n",
       "      <td>1.500000</td>\n",
       "      <td>2.000000</td>\n",
       "      <td>2.500000</td>\n",
       "      <td>3.000000</td>\n",
       "      <td>1.200000</td>\n",
       "      <td>1.500000</td>\n",
       "      <td>2.000000</td>\n",
       "      <td>2.500000</td>\n",
       "      <td>3.000000</td>\n",
       "      <td>1.200000</td>\n",
       "      <td>1.50000</td>\n",
       "      <td>2.000000</td>\n",
       "      <td>2.500000</td>\n",
       "      <td>3.000000</td>\n",
       "    </tr>\n",
       "    <tr>\n",
       "      <th>fpc</th>\n",
       "      <td>0.992996</td>\n",
       "      <td>0.979766</td>\n",
       "      <td>0.953793</td>\n",
       "      <td>0.909873</td>\n",
       "      <td>0.852525</td>\n",
       "      <td>0.983981</td>\n",
       "      <td>0.972528</td>\n",
       "      <td>0.921016</td>\n",
       "      <td>0.831103</td>\n",
       "      <td>0.706425</td>\n",
       "      <td>0.989047</td>\n",
       "      <td>0.96856</td>\n",
       "      <td>0.902534</td>\n",
       "      <td>0.632981</td>\n",
       "      <td>0.528711</td>\n",
       "    </tr>\n",
       "  </tbody>\n",
       "</table>\n",
       "</div>"
      ],
      "text/plain": [
       "               0         1         2         3         4         5         6   \\\n",
       "cluster  2.000000  2.000000  2.000000  2.000000  2.000000  3.000000  3.000000   \n",
       "m-value  1.200000  1.500000  2.000000  2.500000  3.000000  1.200000  1.500000   \n",
       "fpc      0.992996  0.979766  0.953793  0.909873  0.852525  0.983981  0.972528   \n",
       "\n",
       "               7         8         9         10       11        12        13  \\\n",
       "cluster  3.000000  3.000000  3.000000  4.000000  4.00000  4.000000  4.000000   \n",
       "m-value  2.000000  2.500000  3.000000  1.200000  1.50000  2.000000  2.500000   \n",
       "fpc      0.921016  0.831103  0.706425  0.989047  0.96856  0.902534  0.632981   \n",
       "\n",
       "               14  \n",
       "cluster  4.000000  \n",
       "m-value  3.000000  \n",
       "fpc      0.528711  "
      ]
     },
     "execution_count": 14,
     "metadata": {},
     "output_type": "execute_result"
    }
   ],
   "source": [
    "import pandas as pd\n",
    "\n",
    "# experiment with which m values and amount of clusters training goes the best by looking at the fpc\n",
    "experiments = []\n",
    "m_list = [1.2, 1.5, 2, 2.5, 3]\n",
    "# check for different amount of clusters\n",
    "for nclusters in range(2, 5):\n",
    "    # check for different amount of m's \n",
    "    for m in m_list: \n",
    "        cntrs, _, _, _, _, _, fpc = fuzz.cluster.cmeans(nutrition_vectors.T, nclusters, m, error=0.005, maxiter=1000, init=None)\n",
    "        print (cntrs.shape)\n",
    "        experiments.append((nclusters, m, fpc))\n",
    "df = pd.DataFrame(experiments, columns=[\"cluster\", \"m-value\", \"fpc\"])\n",
    "df.T"
   ]
  },
  {
   "cell_type": "code",
   "execution_count": 10,
   "metadata": {
    "collapsed": false
   },
   "outputs": [
    {
     "name": "stdout",
     "output_type": "stream",
     "text": [
      "[False]\n",
      "[[  0.18   1.77   0.4    5.22  53.16   8.61   1.18   1.04   0.     1.4\n",
      "    0.18   0.     0.     1.88   0.59   0.7    3.22   0.67   0.41   0.15\n",
      "    2.71   1.4    1.05   0.     1.41   0.35   0.85   3.32   2.5    0.27\n",
      "    0.     0.48   0.78   0.43   0.24   0.78   8.13   0.66   0.     0.28\n",
      "    3.31   1.34   1.24   2.13   0.     0.58   2.01   1.58   1.87   0.29\n",
      "    4.45   0.96   0.18   1.17   0.51   2.32   0.67   0.     0.74   7.07\n",
      "    0.59   0.18   2.18   1.14   0.27   2.5    0.27   1.04   5.94   0.31\n",
      "    0.64   0.2    3.27   3.7    0.21   0.9    0.72   0.19   0.31   1.14\n",
      "    0.34   4.9    0.32   0.85   1.3   11.53   3.85   1.64   1.23   0.28\n",
      "    2.34   0.19   0.71   1.11   0.63   4.88   0.28   2.08   0.91   0.21\n",
      "   12.41   2.31   7.19   0.63   0.56   4.19   0.38   2.53   0.     1.88\n",
      "    5.26   0.67   0.25   0.93   0.87   1.52   2.48   0.18   0.28   0.33\n",
      "    0.47   0.72   3.97   0.     0.41   2.84   0.99   1.09   2.26   0.99\n",
      "    0.78   2.64   1.34   3.23   0.63   0.94   0.53   1.89   0.34   0.28\n",
      "    1.51   1.12   0.81   1.51   0.99   1.86   0.31   2.87   1.03   1.78\n",
      "    0.38   6.11   0.     1.03   1.13   1.26   0.67   0.49   1.67   0.24\n",
      "    0.31   2.23   1.77   4.92   0.59   0.51   0.81   0.4    1.81   1.87\n",
      "    1.55   2.26   1.09   0.29   7.3    1.19   0.     1.98   0.48   0.     0.\n",
      "    0.81   0.     0.3    0.43   2.05   1.79   1.8    4.35   5.94   3.8\n",
      "    0.18   4.73   0.41   1.05   1.83   0.45   9.24   1.59   1.7    0.78\n",
      "    7.26   0.6    0.2    0.7    0.75   6.24   4.91   0.51   1.71   0.22\n",
      "    0.23   0.73   2.88   0.51   6.08   3.67   0.7    1.17   0.22   1.98\n",
      "    0.71   0.72   0.2    6.7    0.     0.     1.03   2.05   2.77   5.28\n",
      "    0.57   2.28   0.72   1.16   1.72  21.33   0.86   4.84   0.48   4.94\n",
      "    1.68   1.19   0.7    2.22   3.35   2.     9.88   1.13   0.43   2.68\n",
      "    7.82   0.73   0.    24.06   0.     3.02   0.28   0.47   0.61   0.77\n",
      "    0.     0.29   2.91   0.22   1.07   1.3    0.27   0.72   0.     2.43\n",
      "    0.     1.83   0.76   0.7    8.46   2.13   0.24   0.91   0.45   1.47\n",
      "    1.1    1.41   2.22   1.09   0.45   2.     3.89   2.46   0.     1.8\n",
      "    0.88   0.44   0.34   0.84   2.12   0.85   2.61   5.15   0.45  13.39\n",
      "    3.01   2.56   1.72   0.27   0.45   1.66   0.74   2.62   1.11   0.44\n",
      "    4.86   0.72   1.75   1.11   1.36   0.96   4.95   0.72   1.85   0.59\n",
      "    0.98   0.93   1.06   0.38   3.8    1.01   5.54   1.29   0.6    0.     0.\n",
      "    0.     6.94   3.01   1.59  10.57   0.53   1.     1.3    0.3    0.88\n",
      "    0.74   0.82  56.74   0.94   1.68   2.92   0.3    0.85   0.24   1.64\n",
      "    2.92   0.     1.67   1.87   0.61   1.35   0.29   1.7    0.51   0.96\n",
      "    2.28   0.69   0.45   0.22   0.41   0.79   0.68   1.05   0.78   0.22\n",
      "    2.18   1.58   6.96   1.11   0.     0.26   0.53   3.35   0.     0.21\n",
      "    0.48   0.     0.94   0.82   1.9    2.32  74.49   0.     0.24   1.06\n",
      "    2.52   0.18   0.2    2.73   0.23   0.28   0.97   0.77   0.68   0.46\n",
      "    3.31   0.49   0.     3.44   0.17   1.22   0.     0.56   0.37   0.24\n",
      "    4.26   6.04   0.     0.23   2.37   0.5    2.85   0.84   0.51   2.54\n",
      "    1.24   2.17   1.86   1.     1.08   1.1    0.85   2.82   1.99   1.53\n",
      "    3.63   1.22   0.17   2.22   0.     0.21   0.27   1.24   2.17   3.57\n",
      "    0.71   0.37   0.     2.     4.14   1.32   1.12   0.8    1.12   0.     1.6\n",
      "    1.31   0.19   8.53   0.66   1.41   0.63   0.     0.84   0.17   2.11\n",
      "    2.37   2.64   1.1    0.89   0.     4.69   0.64   0.9    0.     1.18\n",
      "    2.03   0.94   1.22   0.24   0.35   0.32   0.     0.21   2.52   0.15\n",
      "    3.54   4.94   0.26   4.19   0.     2.69   4.78   0.39   0.51   8.1\n",
      "    1.35   1.11   3.09   4.43   2.75   1.52   0.29]]\n",
      "[] 3\n"
     ]
    },
    {
     "name": "stderr",
     "output_type": "stream",
     "text": [
      "c:\\python27\\lib\\site-packages\\numpy\\matrixlib\\defmatrix.py:318: VisibleDeprecationWarning: boolean index did not match indexed array along dimension 1; dimension is 500 but corresponding boolean dimension is 1\n",
      "  out = N.ndarray.__getitem__(self, index)\n"
     ]
    },
    {
     "data": {
      "text/plain": [
       "array([1], dtype=int64)"
      ]
     },
     "execution_count": 10,
     "metadata": {},
     "output_type": "execute_result"
    }
   ],
   "source": [
    "# this is to make sense of what the u.argmax does (not used for fuzzy cmeans clustering)\n",
    "print(u.argmax(axis=0) == j)\n",
    "print(nutrition_vectors.T[0])\n",
    "print(nutrition_vectors.T[0, u.argmax(axis=0) == j], j)\n",
    "u.argmax(axis = 0)"
   ]
  },
  {
   "cell_type": "code",
   "execution_count": null,
   "metadata": {
    "collapsed": true
   },
   "outputs": [],
   "source": []
  }
 ],
 "metadata": {
  "kernelspec": {
   "display_name": "Python 2",
   "language": "python",
   "name": "python2"
  },
  "language_info": {
   "codemirror_mode": {
    "name": "ipython",
    "version": 2
   },
   "file_extension": ".py",
   "mimetype": "text/x-python",
   "name": "python",
   "nbconvert_exporter": "python",
   "pygments_lexer": "ipython2",
   "version": "2.7.11"
  }
 },
 "nbformat": 4,
 "nbformat_minor": 0
}

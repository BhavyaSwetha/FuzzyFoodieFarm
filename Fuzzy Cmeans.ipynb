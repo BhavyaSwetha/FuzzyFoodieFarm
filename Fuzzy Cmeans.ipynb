{
 "cells": [
  {
   "cell_type": "code",
   "execution_count": 151,
   "metadata": {
    "collapsed": true
   },
   "outputs": [],
   "source": [
    "import json\n",
    "recipesNutrients = json.load(open(\"recipesNutrients2.txt\"))"
   ]
  },
  {
   "cell_type": "code",
   "execution_count": 112,
   "metadata": {
    "collapsed": false
   },
   "outputs": [
    {
     "name": "stdout",
     "output_type": "stream",
     "text": [
      "{u'nutrition': {u'caloricBreakdown': {u'percentProtein': 7.15, u'percentCarbs': 8.31, u'percentFat': 84.54}, u'nutrients': [{u'amount': 354.6, u'percentOfDailyNeeds': 17.73, u'unit': u'cal', u'title': u'Calories'}, {u'amount': 35.72, u'percentOfDailyNeeds': 54.95, u'unit': u'g', u'title': u'Fat'}, {u'amount': 18.61, u'percentOfDailyNeeds': 116.31, u'unit': u'g', u'title': u'Saturated Fat'}, {u'amount': 7.9, u'percentOfDailyNeeds': 2.63, u'unit': u'g', u'title': u'Carbohydrates'}, {u'amount': 1.9, u'percentOfDailyNeeds': 2.11, u'unit': u'g', u'title': u'Sugar'}, {u'amount': 115.19, u'percentOfDailyNeeds': 38.4, u'unit': u'mg', u'title': u'Cholesterol'}, {u'amount': 247.17, u'percentOfDailyNeeds': 10.75, u'unit': u'mg', u'title': u'Sodium'}, {u'amount': 9.48, u'percentOfDailyNeeds': 3.16, u'unit': u'mg', u'title': u'Caffeine'}, {u'amount': 6.8, u'percentOfDailyNeeds': 13.6, u'unit': u'g', u'title': u'Protein'}, {u'amount': 0.43, u'percentOfDailyNeeds': 21.34, u'unit': u'mg', u'title': u'Manganese'}, {u'amount': 1028.38, u'percentOfDailyNeeds': 20.57, u'unit': u'IU', u'title': u'Vitamin A'}, {u'amount': 0.33, u'percentOfDailyNeeds': 16.33, u'unit': u'mg', u'title': u'Copper'}, {u'amount': 120.52, u'percentOfDailyNeeds': 12.05, u'unit': u'mg', u'title': u'Phosphorus'}, {u'amount': 1.91, u'percentOfDailyNeeds': 10.62, u'unit': u'mg', u'title': u'Iron'}, {u'amount': 39.71, u'percentOfDailyNeeds': 9.93, u'unit': u'mg', u'title': u'Magnesium'}, {u'amount': 2.44, u'percentOfDailyNeeds': 9.78, u'unit': u'g', u'title': u'Fiber'}, {u'amount': 79.11, u'percentOfDailyNeeds': 7.91, u'unit': u'mg', u'title': u'Calcium'}, {u'amount': 1.15, u'percentOfDailyNeeds': 7.68, u'unit': u'mg', u'title': u'Zinc'}, {u'amount': 0.12, u'percentOfDailyNeeds': 7.23, u'unit': u'mg', u'title': u'Vitamin B2'}, {u'amount': 4.84, u'percentOfDailyNeeds': 6.92, u'unit': u'\\xb5g', u'title': u'Selenium'}, {u'amount': 175.12, u'percentOfDailyNeeds': 5.0, u'unit': u'mg', u'title': u'Potassium'}, {u'amount': 0.45, u'percentOfDailyNeeds': 4.53, u'unit': u'mg', u'title': u'Vitamin B5'}, {u'amount': 0.66, u'percentOfDailyNeeds': 4.4, u'unit': u'\\xb5g', u'title': u'Vitamin D'}, {u'amount': 0.6, u'percentOfDailyNeeds': 3.97, u'unit': u'mg', u'title': u'Vitamin E'}, {u'amount': 14.85, u'percentOfDailyNeeds': 3.71, u'unit': u'\\xb5g', u'title': u'Folate'}, {u'amount': 0.22, u'percentOfDailyNeeds': 3.7, u'unit': u'\\xb5g', u'title': u'Vitamin B12'}, {u'amount': 3.01, u'percentOfDailyNeeds': 2.87, u'unit': u'\\xb5g', u'title': u'Vitamin K'}, {u'amount': 0.05, u'percentOfDailyNeeds': 2.63, u'unit': u'mg', u'title': u'Vitamin B6'}, {u'amount': 0.03, u'percentOfDailyNeeds': 2.3, u'unit': u'mg', u'title': u'Vitamin B1'}, {u'amount': 0.24, u'percentOfDailyNeeds': 1.19, u'unit': u'mg', u'title': u'Vitamin B3'}], u'ingredients': [{u'nutrients': [{u'amount': 0.0, u'name': u'Sodium', u'unit': u'mg'}, {u'amount': 2.77, u'name': u'Fat', u'unit': u'g'}, {u'amount': 0.0, u'name': u'Magnesium', u'unit': u'mg'}, {u'amount': 0.0, u'name': u'Selenium', u'unit': u'\\xb5g'}, {u'amount': 0.0, u'name': u'Vitamin A', u'unit': u'IU'}, {u'amount': 0.21, u'name': u'Iron', u'unit': u'mg'}, {u'amount': 0.0, u'name': u'Fluoride', u'unit': u'mg'}, {u'amount': 0.0, u'name': u'Vitamin C', u'unit': u'mg'}, {u'amount': 0.0, u'name': u'Folate', u'unit': u'\\xb5g'}, {u'amount': 0.0, u'name': u'Vitamin B3', u'unit': u'mg'}, {u'amount': 0.0, u'name': u'Vitamin B12', u'unit': u'\\xb5g'}, {u'amount': 0.0, u'name': u'Manganese', u'unit': u'mg'}, {u'amount': 1.19, u'name': u'Protein', u'unit': u'g'}, {u'amount': 0.0, u'name': u'Poly Unsaturated Fat', u'unit': u'g'}, {u'amount': 0.59, u'name': u'Fiber', u'unit': u'g'}, {u'amount': 31.64, u'name': u'Calories', u'unit': u'cal'}, {u'amount': 11.76, u'name': u'Calcium', u'unit': u'mg'}, {u'amount': 0.2, u'name': u'Saturated Fat', u'unit': u'g'}, {u'amount': 0.0, u'name': u'Vitamin B1', u'unit': u'mg'}, {u'amount': 0.0, u'name': u'Cholesterol', u'unit': u'mg'}, {u'amount': 0.0, u'name': u'Vitamin B5', u'unit': u'mg'}, {u'amount': 0.0, u'name': u'Potassium', u'unit': u'mg'}, {u'amount': 0.2, u'name': u'Sugar', u'unit': u'g'}, {u'amount': 0.0, u'name': u'Vitamin D', u'unit': u'\\xb5g'}, {u'amount': 0.0, u'name': u'Mono Unsaturated Fat', u'unit': u'g'}, {u'amount': 0.0, u'name': u'Alcohol', u'unit': u'g'}, {u'amount': 0.0, u'name': u'Zinc', u'unit': u'mg'}, {u'amount': 0.0, u'name': u'Vitamin B2', u'unit': u'mg'}, {u'amount': 1.19, u'name': u'Carbohydrates', u'unit': u'g'}, {u'amount': 0.0, u'name': u'Vitamin E', u'unit': u'mg'}, {u'amount': 0.0, u'name': u'Phosphorus', u'unit': u'mg'}, {u'amount': 0.0, u'name': u'Vitamin B6', u'unit': u'mg'}, {u'amount': 0.0, u'name': u'Vitamin K', u'unit': u'\\xb5g'}, {u'amount': 0.0, u'name': u'Caffeine', u'unit': u'mg'}, {u'amount': 0.0, u'name': u'Copper', u'unit': u'mg'}, {u'amount': 0.0, u'name': u'Trans Fat', u'unit': u'g'}], u'amount': 0.05, u'name': u'almond flour', u'unit': u'cup'}, {u'nutrients': [{u'amount': 81.04, u'name': u'Sodium', u'unit': u'mg'}, {u'amount': 9.21, u'name': u'Fat', u'unit': u'g'}, {u'amount': 0.23, u'name': u'Magnesium', u'unit': u'mg'}, {u'amount': 0.11, u'name': u'Selenium', u'unit': u'\\xb5g'}, {u'amount': 283.64, u'name': u'Vitamin A', u'unit': u'IU'}, {u'amount': 0.0, u'name': u'Iron', u'unit': u'mg'}, {u'amount': 0.32, u'name': u'Fluoride', u'unit': u'mg'}, {u'amount': 0.0, u'name': u'Vitamin C', u'unit': u'mg'}, {u'amount': 0.34, u'name': u'Folate', u'unit': u'\\xb5g'}, {u'amount': 0.0, u'name': u'Vitamin B3', u'unit': u'mg'}, {u'amount': 0.02, u'name': u'Vitamin B12', u'unit': u'\\xb5g'}, {u'amount': 0.0, u'name': u'Manganese', u'unit': u'mg'}, {u'amount': 0.1, u'name': u'Protein', u'unit': u'g'}, {u'amount': 0.35, u'name': u'Poly Unsaturated Fat', u'unit': u'g'}, {u'amount': 0.0, u'name': u'Fiber', u'unit': u'g'}, {u'amount': 81.38, u'name': u'Calories', u'unit': u'cal'}, {u'amount': 2.72, u'name': u'Calcium', u'unit': u'mg'}, {u'amount': 5.83, u'name': u'Saturated Fat', u'unit': u'g'}, {u'amount': 0.0, u'name': u'Vitamin B1', u'unit': u'mg'}, {u'amount': 24.4, u'name': u'Cholesterol', u'unit': u'mg'}, {u'amount': 0.01, u'name': u'Vitamin B5', u'unit': u'mg'}, {u'amount': 2.72, u'name': u'Potassium', u'unit': u'mg'}, {u'amount': 0.01, u'name': u'Sugar', u'unit': u'g'}, {u'amount': 0.17, u'name': u'Vitamin D', u'unit': u'\\xb5g'}, {u'amount': 2.39, u'name': u'Mono Unsaturated Fat', u'unit': u'g'}, {u'amount': 0.0, u'name': u'Alcohol', u'unit': u'g'}, {u'amount': 0.01, u'name': u'Zinc', u'unit': u'mg'}, {u'amount': 0.0, u'name': u'Vitamin B2', u'unit': u'mg'}, {u'amount': 0.01, u'name': u'Carbohydrates', u'unit': u'g'}, {u'amount': 0.26, u'name': u'Vitamin E', u'unit': u'mg'}, {u'amount': 0.0, u'name': u'Folic Acid', u'unit': u'\\xb5g'}, {u'amount': 2.13, u'name': u'Choline', u'unit': u'mg'}, {u'amount': 2.72, u'name': u'Phosphorus', u'unit': u'mg'}, {u'amount': 0.0, u'name': u'Vitamin B6', u'unit': u'mg'}, {u'amount': 0.79, u'name': u'Vitamin K', u'unit': u'\\xb5g'}, {u'amount': 0.0, u'name': u'Caffeine', u'unit': u'mg'}, {u'amount': 0.0, u'name': u'Copper', u'unit': u'mg'}, {u'amount': 0.37, u'name': u'Trans Fat', u'unit': u'g'}], u'amount': 0.05, u'name': u'butter', u'unit': u'cup'}, {u'nutrients': [{u'amount': 0.45, u'name': u'Sodium', u'unit': u'mg'}, {u'amount': 0.29, u'name': u'Fat', u'unit': u'g'}, {u'amount': 10.73, u'name': u'Magnesium', u'unit': u'mg'}, {u'amount': 0.31, u'name': u'Selenium', u'unit': u'\\xb5g'}, {u'amount': 0.0, u'name': u'Vitamin A', u'unit': u'IU'}, {u'amount': 0.3, u'name': u'Iron', u'unit': u'mg'}, {u'amount': 0.0, u'name': u'Vitamin C', u'unit': u'mg'}, {u'amount': 0.69, u'name': u'Folate', u'unit': u'\\xb5g'}, {u'amount': 0.05, u'name': u'Vitamin B3', u'unit': u'mg'}, {u'amount': 0.0, u'name': u'Vitamin B12', u'unit': u'\\xb5g'}, {u'amount': 0.08, u'name': u'Manganese', u'unit': u'mg'}, {u'amount': 0.42, u'name': u'Protein', u'unit': u'g'}, {u'amount': 0.01, u'name': u'Poly Unsaturated Fat', u'unit': u'g'}, {u'amount': 0.71, u'name': u'Fiber', u'unit': u'g'}, {u'amount': 4.9, u'name': u'Calories', u'unit': u'cal'}, {u'amount': 2.75, u'name': u'Calcium', u'unit': u'mg'}, {u'amount': 0.17, u'name': u'Saturated Fat', u'unit': u'g'}, {u'amount': 0.0, u'name': u'Vitamin B1', u'unit': u'mg'}, {u'amount': 0.0, u'name': u'Cholesterol', u'unit': u'mg'}, {u'amount': 0.01, u'name': u'Vitamin B5', u'unit': u'mg'}, {u'amount': 32.77, u'name': u'Potassium', u'unit': u'mg'}, {u'amount': 0.04, u'name': u'Sugar', u'unit': u'g'}, {u'amount': 0.0, u'name': u'Vitamin D', u'unit': u'\\xb5g'}, {u'amount': 0.1, u'name': u'Mono Unsaturated Fat', u'unit': u'g'}, {u'amount': 0.0, u'name': u'Alcohol', u'unit': u'g'}, {u'amount': 0.15, u'name': u'Zinc', u'unit': u'mg'}, {u'amount': 0.01, u'name': u'Vitamin B2', u'unit': u'mg'}, {u'amount': 1.24, u'name': u'Carbohydrates', u'unit': u'g'}, {u'amount': 0.0, u'name': u'Vitamin E', u'unit': u'mg'}, {u'amount': 0.0, u'name': u'Folic Acid', u'unit': u'\\xb5g'}, {u'amount': 0.26, u'name': u'Choline', u'unit': u'mg'}, {u'amount': 15.78, u'name': u'Phosphorus', u'unit': u'mg'}, {u'amount': 0.0, u'name': u'Vitamin B6', u'unit': u'mg'}, {u'amount': 0.05, u'name': u'Vitamin K', u'unit': u'\\xb5g'}, {u'amount': 4.95, u'name': u'Caffeine', u'unit': u'mg'}, {u'amount': 0.08, u'name': u'Copper', u'unit': u'mg'}], u'amount': 0.03, u'name': u'cocoa powder', u'unit': u'cup'}, {u'nutrients': [{u'amount': 145.6, u'name': u'Sodium', u'unit': u'mg'}, {u'amount': 15.53, u'name': u'Fat', u'unit': u'g'}, {u'amount': 4.08, u'name': u'Magnesium', u'unit': u'mg'}, {u'amount': 1.09, u'name': u'Selenium', u'unit': u'\\xb5g'}, {u'amount': 609.17, u'name': u'Vitamin A', u'unit': u'IU'}, {u'amount': 0.17, u'name': u'Iron', u'unit': u'mg'}, {u'amount': 0.0, u'name': u'Vitamin C', u'unit': u'mg'}, {u'amount': 4.99, u'name': u'Folate', u'unit': u'\\xb5g'}, {u'amount': 0.07, u'name': u'Vitamin B3', u'unit': u'mg'}, {u'amount': 0.11, u'name': u'Vitamin B12', u'unit': u'\\xb5g'}, {u'amount': 0.0, u'name': u'Manganese', u'unit': u'mg'}, {u'amount': 2.69, u'name': u'Protein', u'unit': u'g'}, {u'amount': 0.65, u'name': u'Poly Unsaturated Fat', u'unit': u'g'}, {u'amount': 0.0, u'name': u'Fiber', u'unit': u'g'}, {u'amount': 155.13, u'name': u'Calories', u'unit': u'cal'}, {u'amount': 44.45, u'name': u'Calcium', u'unit': u'mg'}, {u'amount': 8.75, u'name': u'Saturated Fat', u'unit': u'g'}, {u'amount': 0.01, u'name': u'Vitamin B1', u'unit': u'mg'}, {u'amount': 49.9, u'name': u'Cholesterol', u'unit': u'mg'}, {u'amount': 0.26, u'name': u'Vitamin B5', u'unit': u'mg'}, {u'amount': 62.6, u'name': u'Potassium', u'unit': u'mg'}, {u'amount': 1.46, u'name': u'Sugar', u'unit': u'g'}, {u'amount': 0.27, u'name': u'Vitamin D', u'unit': u'\\xb5g'}, {u'amount': 3.91, u'name': u'Mono Unsaturated Fat', u'unit': u'g'}, {u'amount': 0.0, u'name': u'Alcohol', u'unit': u'g'}, {u'amount': 0.23, u'name': u'Zinc', u'unit': u'mg'}, {u'amount': 0.06, u'name': u'Vitamin B2', u'unit': u'mg'}, {u'amount': 1.85, u'name': u'Carbohydrates', u'unit': u'g'}, {u'amount': 0.13, u'name': u'Vitamin E', u'unit': u'mg'}, {u'amount': 0.0, u'name': u'Folic Acid', u'unit': u'\\xb5g'}, {u'amount': 12.34, u'name': u'Choline', u'unit': u'mg'}, {u'amount': 48.08, u'name': u'Phosphorus', u'unit': u'mg'}, {u'amount': 0.02, u'name': u'Vitamin B6', u'unit': u'mg'}, {u'amount': 1.32, u'name': u'Vitamin K', u'unit': u'\\xb5g'}, {u'amount': 0.0, u'name': u'Caffeine', u'unit': u'mg'}, {u'amount': 0.01, u'name': u'Copper', u'unit': u'mg'}], u'amount': 0.1, u'name': u'cream cheese', u'unit': u'lb'}, {u'nutrients': [{u'amount': 12.5, u'name': u'Sodium', u'unit': u'mg'}, {u'amount': 0.84, u'name': u'Fat', u'unit': u'g'}, {u'amount': 1.06, u'name': u'Magnesium', u'unit': u'mg'}, {u'amount': 2.7, u'name': u'Selenium', u'unit': u'\\xb5g'}, {u'amount': 47.52, u'name': u'Vitamin A', u'unit': u'IU'}, {u'amount': 0.15, u'name': u'Iron', u'unit': u'mg'}, {u'amount': 0.1, u'name': u'Fluoride', u'unit': u'mg'}, {u'amount': 0.0, u'name': u'Vitamin C', u'unit': u'mg'}, {u'amount': 4.14, u'name': u'Folate', u'unit': u'\\xb5g'}, {u'amount': 0.01, u'name': u'Vitamin B3', u'unit': u'mg'}, {u'amount': 0.08, u'name': u'Vitamin B12', u'unit': u'\\xb5g'}, {u'amount': 0.0, u'name': u'Manganese', u'unit': u'mg'}, {u'amount': 1.11, u'name': u'Protein', u'unit': u'g'}, {u'amount': 0.17, u'name': u'Poly Unsaturated Fat', u'unit': u'g'}, {u'amount': 0.0, u'name': u'Fiber', u'unit': u'g'}, {u'amount': 12.58, u'name': u'Calories', u'unit': u'cal'}, {u'amount': 4.93, u'name': u'Calcium', u'unit': u'mg'}, {u'amount': 0.28, u'name': u'Saturated Fat', u'unit': u'g'}, {u'amount': 0.0, u'name': u'Vitamin B1', u'unit': u'mg'}, {u'amount': 32.74, u'name': u'Cholesterol', u'unit': u'mg'}, {u'amount': 0.13, u'name': u'Vitamin B5', u'unit': u'mg'}, {u'amount': 12.14, u'name': u'Potassium', u'unit': u'mg'}, {u'amount': 0.03, u'name': u'Sugar', u'unit': u'g'}, {u'amount': 0.18, u'name': u'Vitamin D', u'unit': u'\\xb5g'}, {u'amount': 0.32, u'name': u'Mono Unsaturated Fat', u'unit': u'g'}, {u'amount': 0.0, u'name': u'Alcohol', u'unit': u'g'}, {u'amount': 0.11, u'name': u'Zinc', u'unit': u'mg'}, {u'amount': 0.04, u'name': u'Vitamin B2', u'unit': u'mg'}, {u'amount': 0.06, u'name': u'Carbohydrates', u'unit': u'g'}, {u'amount': 0.09, u'name': u'Vitamin E', u'unit': u'mg'}, {u'amount': 0.0, u'name': u'Folic Acid', u'unit': u'\\xb5g'}, {u'amount': 25.85, u'name': u'Choline', u'unit': u'mg'}, {u'amount': 17.42, u'name': u'Phosphorus', u'unit': u'mg'}, {u'amount': 0.01, u'name': u'Vitamin B6', u'unit': u'mg'}, {u'amount': 0.03, u'name': u'Vitamin K', u'unit': u'\\xb5g'}, {u'amount': 0.0, u'name': u'Caffeine', u'unit': u'mg'}, {u'amount': 0.01, u'name': u'Copper', u'unit': u'mg'}, {u'amount': 0.0, u'name': u'Trans Fat', u'unit': u'g'}], u'amount': 0.2, u'name': u'eggs', u'unit': u''}, {u'nutrients': [{u'amount': 0.0, u'name': u'Sodium', u'unit': u'mg'}, {u'amount': 0.0, u'name': u'Fat', u'unit': u'g'}, {u'amount': 0.0, u'name': u'Magnesium', u'unit': u'mg'}, {u'amount': 0.0, u'name': u'Selenium', u'unit': u'\\xb5g'}, {u'amount': 0.0, u'name': u'Vitamin A', u'unit': u'IU'}, {u'amount': 0.0, u'name': u'Iron', u'unit': u'mg'}, {u'amount': 0.0, u'name': u'Fluoride', u'unit': u'mg'}, {u'amount': 0.0, u'name': u'Vitamin C', u'unit': u'mg'}, {u'amount': 0.0, u'name': u'Folate', u'unit': u'\\xb5g'}, {u'amount': 0.0, u'name': u'Vitamin B3', u'unit': u'mg'}, {u'amount': 0.0, u'name': u'Vitamin B12', u'unit': u'\\xb5g'}, {u'amount': 0.0, u'name': u'Manganese', u'unit': u'mg'}, {u'amount': 0.0, u'name': u'Protein', u'unit': u'g'}, {u'amount': 0.0, u'name': u'Poly Unsaturated Fat', u'unit': u'g'}, {u'amount': 0.0, u'name': u'Fiber', u'unit': u'g'}, {u'amount': 0.0, u'name': u'Calories', u'unit': u'cal'}, {u'amount': 0.0, u'name': u'Calcium', u'unit': u'mg'}, {u'amount': 0.0, u'name': u'Saturated Fat', u'unit': u'g'}, {u'amount': 0.0, u'name': u'Vitamin B1', u'unit': u'mg'}, {u'amount': 0.0, u'name': u'Cholesterol', u'unit': u'mg'}, {u'amount': 0.0, u'name': u'Vitamin B5', u'unit': u'mg'}, {u'amount': 0.0, u'name': u'Potassium', u'unit': u'mg'}, {u'amount': 0.0, u'name': u'Sugar', u'unit': u'g'}, {u'amount': 0.0, u'name': u'Vitamin D', u'unit': u'\\xb5g'}, {u'amount': 0.0, u'name': u'Mono Unsaturated Fat', u'unit': u'g'}, {u'amount': 0.0, u'name': u'Alcohol', u'unit': u'g'}, {u'amount': 0.0, u'name': u'Zinc', u'unit': u'mg'}, {u'amount': 0.0, u'name': u'Vitamin B2', u'unit': u'mg'}, {u'amount': 0.5, u'name': u'Carbohydrates', u'unit': u'g'}, {u'amount': 0.0, u'name': u'Vitamin E', u'unit': u'mg'}, {u'amount': 0.0, u'name': u'Phosphorus', u'unit': u'mg'}, {u'amount': 0.0, u'name': u'Vitamin B6', u'unit': u'mg'}, {u'amount': 0.0, u'name': u'Vitamin K', u'unit': u'\\xb5g'}, {u'amount': 0.0, u'name': u'Caffeine', u'unit': u'mg'}, {u'amount': 0.0, u'name': u'Copper', u'unit': u'mg'}, {u'amount': 0.0, u'name': u'Trans Fat', u'unit': u'g'}], u'amount': 0.05, u'name': u'erythritol', u'unit': u'cup'}, {u'nutrients': [{u'amount': 0.0, u'name': u'Sodium', u'unit': u'mg'}, {u'amount': 0.0, u'name': u'Fat', u'unit': u'g'}, {u'amount': 0.0, u'name': u'Magnesium', u'unit': u'mg'}, {u'amount': 0.0, u'name': u'Selenium', u'unit': u'\\xb5g'}, {u'amount': 0.0, u'name': u'Vitamin A', u'unit': u'IU'}, {u'amount': 0.0, u'name': u'Iron', u'unit': u'mg'}, {u'amount': 0.0, u'name': u'Fluoride', u'unit': u'mg'}, {u'amount': 0.0, u'name': u'Vitamin C', u'unit': u'mg'}, {u'amount': 0.0, u'name': u'Folate', u'unit': u'\\xb5g'}, {u'amount': 0.0, u'name': u'Vitamin B3', u'unit': u'mg'}, {u'amount': 0.0, u'name': u'Vitamin B12', u'unit': u'\\xb5g'}, {u'amount': 0.0, u'name': u'Manganese', u'unit': u'mg'}, {u'amount': 0.0, u'name': u'Protein', u'unit': u'g'}, {u'amount': 0.0, u'name': u'Poly Unsaturated Fat', u'unit': u'g'}, {u'amount': 0.0, u'name': u'Fiber', u'unit': u'g'}, {u'amount': 0.0, u'name': u'Calories', u'unit': u'cal'}, {u'amount': 0.0, u'name': u'Calcium', u'unit': u'mg'}, {u'amount': 0.0, u'name': u'Saturated Fat', u'unit': u'g'}, {u'amount': 0.0, u'name': u'Vitamin B1', u'unit': u'mg'}, {u'amount': 0.0, u'name': u'Cholesterol', u'unit': u'mg'}, {u'amount': 0.0, u'name': u'Vitamin B5', u'unit': u'mg'}, {u'amount': 0.0, u'name': u'Potassium', u'unit': u'mg'}, {u'amount': 0.0, u'name': u'Sugar', u'unit': u'g'}, {u'amount': 0.0, u'name': u'Vitamin D', u'unit': u'\\xb5g'}, {u'amount': 0.0, u'name': u'Mono Unsaturated Fat', u'unit': u'g'}, {u'amount': 0.0, u'name': u'Alcohol', u'unit': u'g'}, {u'amount': 0.0, u'name': u'Zinc', u'unit': u'mg'}, {u'amount': 0.0, u'name': u'Vitamin B2', u'unit': u'mg'}, {u'amount': 0.75, u'name': u'Carbohydrates', u'unit': u'g'}, {u'amount': 0.0, u'name': u'Vitamin E', u'unit': u'mg'}, {u'amount': 0.0, u'name': u'Phosphorus', u'unit': u'mg'}, {u'amount': 0.0, u'name': u'Vitamin B6', u'unit': u'mg'}, {u'amount': 0.0, u'name': u'Vitamin K', u'unit': u'\\xb5g'}, {u'amount': 0.0, u'name': u'Caffeine', u'unit': u'mg'}, {u'amount': 0.0, u'name': u'Copper', u'unit': u'mg'}, {u'amount': 0.0, u'name': u'Trans Fat', u'unit': u'g'}], u'amount': 0.08, u'name': u'erythritol', u'unit': u'cup'}, {u'nutrients': [{u'amount': 2.26, u'name': u'Sodium', u'unit': u'mg'}, {u'amount': 2.2, u'name': u'Fat', u'unit': u'g'}, {u'amount': 0.42, u'name': u'Magnesium', u'unit': u'mg'}, {u'amount': 0.03, u'name': u'Selenium', u'unit': u'\\xb5g'}, {u'amount': 87.47, u'name': u'Vitamin A', u'unit': u'IU'}, {u'amount': 0.0, u'name': u'Iron', u'unit': u'mg'}, {u'amount': 0.18, u'name': u'Fluoride', u'unit': u'mg'}, {u'amount': 0.04, u'name': u'Vitamin C', u'unit': u'mg'}, {u'amount': 0.24, u'name': u'Folate', u'unit': u'\\xb5g'}, {u'amount': 0.0, u'name': u'Vitamin B3', u'unit': u'mg'}, {u'amount': 0.01, u'name': u'Vitamin B12', u'unit': u'\\xb5g'}, {u'amount': 0.0, u'name': u'Manganese', u'unit': u'mg'}, {u'amount': 0.12, u'name': u'Protein', u'unit': u'g'}, {u'amount': 0.08, u'name': u'Poly Unsaturated Fat', u'unit': u'g'}, {u'amount': 0.0, u'name': u'Fiber', u'unit': u'g'}, {u'amount': 20.53, u'name': u'Calories', u'unit': u'cal'}, {u'amount': 3.87, u'name': u'Calcium', u'unit': u'mg'}, {u'amount': 1.37, u'name': u'Saturated Fat', u'unit': u'g'}, {u'amount': 0.0, u'name': u'Vitamin B1', u'unit': u'mg'}, {u'amount': 8.15, u'name': u'Cholesterol', u'unit': u'mg'}, {u'amount': 0.02, u'name': u'Vitamin B5', u'unit': u'mg'}, {u'amount': 4.46, u'name': u'Potassium', u'unit': u'mg'}, {u'amount': 0.01, u'name': u'Sugar', u'unit': u'g'}, {u'amount': 0.04, u'name': u'Vitamin D', u'unit': u'\\xb5g'}, {u'amount': 0.64, u'name': u'Mono Unsaturated Fat', u'unit': u'g'}, {u'amount': 0.0, u'name': u'Alcohol', u'unit': u'g'}, {u'amount': 0.01, u'name': u'Zinc', u'unit': u'mg'}, {u'amount': 0.01, u'name': u'Vitamin B2', u'unit': u'mg'}, {u'amount': 0.17, u'name': u'Carbohydrates', u'unit': u'g'}, {u'amount': 0.06, u'name': u'Vitamin E', u'unit': u'mg'}, {u'amount': 0.0, u'name': u'Folic Acid', u'unit': u'\\xb5g'}, {u'amount': 1.0, u'name': u'Choline', u'unit': u'mg'}, {u'amount': 3.69, u'name': u'Phosphorus', u'unit': u'mg'}, {u'amount': 0.0, u'name': u'Vitamin B6', u'unit': u'mg'}, {u'amount': 0.19, u'name': u'Vitamin K', u'unit': u'\\xb5g'}, {u'amount': 0.0, u'name': u'Caffeine', u'unit': u'mg'}, {u'amount': 0.0, u'name': u'Copper', u'unit': u'mg'}], u'amount': 0.03, u'name': u'heavy cream', u'unit': u'cup'}, {u'nutrients': [{u'amount': 3.88, u'name': u'Sodium', u'unit': u'mg'}, {u'amount': 0.0, u'name': u'Fat', u'unit': u'g'}, {u'amount': 0.0, u'name': u'Magnesium', u'unit': u'mg'}, {u'amount': 0.0, u'name': u'Selenium', u'unit': u'\\xb5g'}, {u'amount': 0.0, u'name': u'Vitamin A', u'unit': u'IU'}, {u'amount': 0.0, u'name': u'Iron', u'unit': u'mg'}, {u'amount': 0.0, u'name': u'Fluoride', u'unit': u'mg'}, {u'amount': 0.0, u'name': u'Vitamin C', u'unit': u'mg'}, {u'amount': 0.0, u'name': u'Folate', u'unit': u'\\xb5g'}, {u'amount': 0.0, u'name': u'Vitamin B3', u'unit': u'mg'}, {u'amount': 0.0, u'name': u'Vitamin B12', u'unit': u'\\xb5g'}, {u'amount': 0.0, u'name': u'Manganese', u'unit': u'mg'}, {u'amount': 0.0, u'name': u'Protein', u'unit': u'g'}, {u'amount': 0.0, u'name': u'Poly Unsaturated Fat', u'unit': u'g'}, {u'amount': 0.0, u'name': u'Fiber', u'unit': u'g'}, {u'amount': 0.0, u'name': u'Calories', u'unit': u'cal'}, {u'amount': 0.0, u'name': u'Calcium', u'unit': u'mg'}, {u'amount': 0.0, u'name': u'Saturated Fat', u'unit': u'g'}, {u'amount': 0.0, u'name': u'Vitamin B1', u'unit': u'mg'}, {u'amount': 0.0, u'name': u'Cholesterol', u'unit': u'mg'}, {u'amount': 0.0, u'name': u'Vitamin B5', u'unit': u'mg'}, {u'amount': 0.0, u'name': u'Potassium', u'unit': u'mg'}, {u'amount': 0.0, u'name': u'Sugar', u'unit': u'g'}, {u'amount': 0.0, u'name': u'Vitamin D', u'unit': u'\\xb5g'}, {u'amount': 0.0, u'name': u'Mono Unsaturated Fat', u'unit': u'g'}, {u'amount': 0.0, u'name': u'Alcohol', u'unit': u'g'}, {u'amount': 0.0, u'name': u'Zinc', u'unit': u'mg'}, {u'amount': 0.0, u'name': u'Vitamin B2', u'unit': u'mg'}, {u'amount': 0.0, u'name': u'Carbohydrates', u'unit': u'g'}, {u'amount': 0.0, u'name': u'Vitamin E', u'unit': u'mg'}, {u'amount': 0.0, u'name': u'Folic Acid', u'unit': u'\\xb5g'}, {u'amount': 0.0, u'name': u'Choline', u'unit': u'mg'}, {u'amount': 0.0, u'name': u'Phosphorus', u'unit': u'mg'}, {u'amount': 0.0, u'name': u'Vitamin B6', u'unit': u'mg'}, {u'amount': 0.0, u'name': u'Vitamin K', u'unit': u'\\xb5g'}, {u'amount': 0.0, u'name': u'Caffeine', u'unit': u'mg'}, {u'amount': 0.0, u'name': u'Copper', u'unit': u'mg'}], u'amount': 0.1, u'name': u'salt', u'unit': u'pinch'}, {u'nutrients': [{u'amount': 1.36, u'name': u'Sodium', u'unit': u'mg'}, {u'amount': 2.97, u'name': u'Fat', u'unit': u'g'}, {u'amount': 18.54, u'name': u'Magnesium', u'unit': u'mg'}, {u'amount': 0.46, u'name': u'Selenium', u'unit': u'\\xb5g'}, {u'amount': 0.0, u'name': u'Vitamin A', u'unit': u'IU'}, {u'amount': 0.99, u'name': u'Iron', u'unit': u'mg'}, {u'amount': 0.0, u'name': u'Vitamin C', u'unit': u'mg'}, {u'amount': 1.59, u'name': u'Folate', u'unit': u'\\xb5g'}, {u'amount': 0.08, u'name': u'Vitamin B3', u'unit': u'mg'}, {u'amount': 0.0, u'name': u'Vitamin B12', u'unit': u'\\xb5g'}, {u'amount': 0.24, u'name': u'Manganese', u'unit': u'mg'}, {u'amount': 0.73, u'name': u'Protein', u'unit': u'g'}, {u'amount': 0.09, u'name': u'Poly Unsaturated Fat', u'unit': u'g'}, {u'amount': 0.94, u'name': u'Fiber', u'unit': u'g'}, {u'amount': 28.41, u'name': u'Calories', u'unit': u'cal'}, {u'amount': 5.73, u'name': u'Calcium', u'unit': u'mg'}, {u'amount': 1.83, u'name': u'Saturated Fat', u'unit': u'g'}, {u'amount': 0.01, u'name': u'Vitamin B1', u'unit': u'mg'}, {u'amount': 0.0, u'name': u'Cholesterol', u'unit': u'mg'}, {u'amount': 0.01, u'name': u'Vitamin B5', u'unit': u'mg'}, {u'amount': 47.06, u'name': u'Potassium', u'unit': u'mg'}, {u'amount': 0.05, u'name': u'Sugar', u'unit': u'g'}, {u'amount': 0.0, u'name': u'Vitamin D', u'unit': u'\\xb5g'}, {u'amount': 0.91, u'name': u'Mono Unsaturated Fat', u'unit': u'g'}, {u'amount': 0.0, u'name': u'Alcohol', u'unit': u'g'}, {u'amount': 0.55, u'name': u'Zinc', u'unit': u'mg'}, {u'amount': 0.01, u'name': u'Vitamin B2', u'unit': u'mg'}, {u'amount': 1.69, u'name': u'Carbohydrates', u'unit': u'g'}, {u'amount': 0.02, u'name': u'Vitamin E', u'unit': u'mg'}, {u'amount': 0.0, u'name': u'Folic Acid', u'unit': u'\\xb5g'}, {u'amount': 2.59, u'name': u'Choline', u'unit': u'mg'}, {u'amount': 22.68, u'name': u'Phosphorus', u'unit': u'mg'}, {u'amount': 0.0, u'name': u'Vitamin B6', u'unit': u'mg'}, {u'amount': 0.55, u'name': u'Vitamin K', u'unit': u'\\xb5g'}, {u'amount': 4.54, u'name': u'Caffeine', u'unit': u'mg'}, {u'amount': 0.18, u'name': u'Copper', u'unit': u'mg'}], u'amount': 0.2, u'name': u'unsweetened chocolate', u'unit': u'oz'}, {u'nutrients': [{u'amount': 0.01, u'name': u'Sodium', u'unit': u'mg'}, {u'amount': 0.0, u'name': u'Fat', u'unit': u'g'}, {u'amount': 0.01, u'name': u'Magnesium', u'unit': u'mg'}, {u'amount': 0.0, u'name': u'Selenium', u'unit': u'\\xb5g'}, {u'amount': 0.0, u'name': u'Vitamin A', u'unit': u'IU'}, {u'amount': 0.0, u'name': u'Iron', u'unit': u'mg'}, {u'amount': 0.0, u'name': u'Vitamin C', u'unit': u'mg'}, {u'amount': 0.0, u'name': u'Folate', u'unit': u'\\xb5g'}, {u'amount': 0.0, u'name': u'Vitamin B3', u'unit': u'mg'}, {u'amount': 0.0, u'name': u'Vitamin B12', u'unit': u'\\xb5g'}, {u'amount': 0.0, u'name': u'Manganese', u'unit': u'mg'}, {u'amount': 0.0, u'name': u'Protein', u'unit': u'g'}, {u'amount': 0.0, u'name': u'Poly Unsaturated Fat', u'unit': u'g'}, {u'amount': 0.0, u'name': u'Fiber', u'unit': u'g'}, {u'amount': 0.3, u'name': u'Calories', u'unit': u'cal'}, {u'amount': 0.01, u'name': u'Calcium', u'unit': u'mg'}, {u'amount': 0.0, u'name': u'Saturated Fat', u'unit': u'g'}, {u'amount': 0.0, u'name': u'Vitamin B1', u'unit': u'mg'}, {u'amount': 0.0, u'name': u'Cholesterol', u'unit': u'mg'}, {u'amount': 0.0, u'name': u'Vitamin B5', u'unit': u'mg'}, {u'amount': 0.16, u'name': u'Potassium', u'unit': u'mg'}, {u'amount': 0.01, u'name': u'Sugar', u'unit': u'g'}, {u'amount': 0.0, u'name': u'Vitamin D', u'unit': u'\\xb5g'}, {u'amount': 0.0, u'name': u'Mono Unsaturated Fat', u'unit': u'g'}, {u'amount': 0.04, u'name': u'Alcohol', u'unit': u'g'}, {u'amount': 0.0, u'name': u'Zinc', u'unit': u'mg'}, {u'amount': 0.0, u'name': u'Vitamin B2', u'unit': u'mg'}, {u'amount': 0.01, u'name': u'Carbohydrates', u'unit': u'g'}, {u'amount': 0.0, u'name': u'Vitamin E', u'unit': u'mg'}, {u'amount': 0.0, u'name': u'Folic Acid', u'unit': u'\\xb5g'}, {u'amount': 0.01, u'name': u'Phosphorus', u'unit': u'mg'}, {u'amount': 0.0, u'name': u'Vitamin B6', u'unit': u'mg'}, {u'amount': 0.0, u'name': u'Vitamin K', u'unit': u'\\xb5g'}, {u'amount': 0.0, u'name': u'Caffeine', u'unit': u'mg'}, {u'amount': 0.0, u'name': u'Copper', u'unit': u'mg'}], u'amount': 0.03, u'name': u'vanilla', u'unit': u'tsp'}, {u'nutrients': [{u'amount': 0.02, u'name': u'Sodium', u'unit': u'mg'}, {u'amount': 0.0, u'name': u'Fat', u'unit': u'g'}, {u'amount': 0.03, u'name': u'Magnesium', u'unit': u'mg'}, {u'amount': 0.0, u'name': u'Selenium', u'unit': u'\\xb5g'}, {u'amount': 0.0, u'name': u'Vitamin A', u'unit': u'IU'}, {u'amount': 0.0, u'name': u'Iron', u'unit': u'mg'}, {u'amount': 0.0, u'name': u'Vitamin C', u'unit': u'mg'}, {u'amount': 0.0, u'name': u'Folate', u'unit': u'\\xb5g'}, {u'amount': 0.0, u'name': u'Vitamin B3', u'unit': u'mg'}, {u'amount': 0.0, u'name': u'Vitamin B12', u'unit': u'\\xb5g'}, {u'amount': 0.0, u'name': u'Manganese', u'unit': u'mg'}, {u'amount': 0.0, u'name': u'Protein', u'unit': u'g'}, {u'amount': 0.0, u'name': u'Poly Unsaturated Fat', u'unit': u'g'}, {u'amount': 0.0, u'name': u'Fiber', u'unit': u'g'}, {u'amount': 0.6, u'name': u'Calories', u'unit': u'cal'}, {u'amount': 0.02, u'name': u'Calcium', u'unit': u'mg'}, {u'amount': 0.0, u'name': u'Saturated Fat', u'unit': u'g'}, {u'amount': 0.0, u'name': u'Vitamin B1', u'unit': u'mg'}, {u'amount': 0.0, u'name': u'Cholesterol', u'unit': u'mg'}, {u'amount': 0.0, u'name': u'Vitamin B5', u'unit': u'mg'}, {u'amount': 0.31, u'name': u'Potassium', u'unit': u'mg'}, {u'amount': 0.03, u'name': u'Sugar', u'unit': u'g'}, {u'amount': 0.0, u'name': u'Vitamin D', u'unit': u'\\xb5g'}, {u'amount': 0.0, u'name': u'Mono Unsaturated Fat', u'unit': u'g'}, {u'amount': 0.07, u'name': u'Alcohol', u'unit': u'g'}, {u'amount': 0.0, u'name': u'Zinc', u'unit': u'mg'}, {u'amount': 0.0, u'name': u'Vitamin B2', u'unit': u'mg'}, {u'amount': 0.03, u'name': u'Carbohydrates', u'unit': u'g'}, {u'amount': 0.0, u'name': u'Vitamin E', u'unit': u'mg'}, {u'amount': 0.0, u'name': u'Folic Acid', u'unit': u'\\xb5g'}, {u'amount': 0.01, u'name': u'Phosphorus', u'unit': u'mg'}, {u'amount': 0.0, u'name': u'Vitamin B6', u'unit': u'mg'}, {u'amount': 0.0, u'name': u'Vitamin K', u'unit': u'\\xb5g'}, {u'amount': 0.0, u'name': u'Caffeine', u'unit': u'mg'}, {u'amount': 0.0, u'name': u'Copper', u'unit': u'mg'}], u'amount': 0.05, u'name': u'vanilla extract', u'unit': u'tsp'}, {u'nutrients': [{u'amount': 0.06, u'name': u'Sodium', u'unit': u'mg'}, {u'amount': 1.91, u'name': u'Fat', u'unit': u'g'}, {u'amount': 4.62, u'name': u'Magnesium', u'unit': u'mg'}, {u'amount': 0.14, u'name': u'Selenium', u'unit': u'\\xb5g'}, {u'amount': 0.59, u'name': u'Vitamin A', u'unit': u'IU'}, {u'amount': 0.09, u'name': u'Iron', u'unit': u'mg'}, {u'amount': 0.04, u'name': u'Vitamin C', u'unit': u'mg'}, {u'amount': 2.87, u'name': u'Folate', u'unit': u'\\xb5g'}, {u'amount': 0.03, u'name': u'Vitamin B3', u'unit': u'mg'}, {u'amount': 0.0, u'name': u'Vitamin B12', u'unit': u'\\xb5g'}, {u'amount': 0.1, u'name': u'Manganese', u'unit': u'mg'}, {u'amount': 0.45, u'name': u'Protein', u'unit': u'g'}, {u'amount': 1.38, u'name': u'Poly Unsaturated Fat', u'unit': u'g'}, {u'amount': 0.2, u'name': u'Fiber', u'unit': u'g'}, {u'amount': 19.13, u'name': u'Calories', u'unit': u'cal'}, {u'amount': 2.87, u'name': u'Calcium', u'unit': u'mg'}, {u'amount': 0.18, u'name': u'Saturated Fat', u'unit': u'g'}, {u'amount': 0.01, u'name': u'Vitamin B1', u'unit': u'mg'}, {u'amount': 0.0, u'name': u'Cholesterol', u'unit': u'mg'}, {u'amount': 0.02, u'name': u'Vitamin B5', u'unit': u'mg'}, {u'amount': 12.9, u'name': u'Potassium', u'unit': u'mg'}, {u'amount': 0.08, u'name': u'Sugar', u'unit': u'g'}, {u'amount': 0.0, u'name': u'Vitamin D', u'unit': u'\\xb5g'}, {u'amount': 0.26, u'name': u'Mono Unsaturated Fat', u'unit': u'g'}, {u'amount': 0.0, u'name': u'Alcohol', u'unit': u'g'}, {u'amount': 0.09, u'name': u'Zinc', u'unit': u'mg'}, {u'amount': 0.0, u'name': u'Vitamin B2', u'unit': u'mg'}, {u'amount': 0.4, u'name': u'Carbohydrates', u'unit': u'g'}, {u'amount': 0.02, u'name': u'Vitamin E', u'unit': u'mg'}, {u'amount': 0.0, u'name': u'Folic Acid', u'unit': u'\\xb5g'}, {u'amount': 1.15, u'name': u'Choline', u'unit': u'mg'}, {u'amount': 10.12, u'name': u'Phosphorus', u'unit': u'mg'}, {u'amount': 0.02, u'name': u'Vitamin B6', u'unit': u'mg'}, {u'amount': 0.08, u'name': u'Vitamin K', u'unit': u'\\xb5g'}, {u'amount': 0.0, u'name': u'Caffeine', u'unit': u'mg'}, {u'amount': 0.05, u'name': u'Copper', u'unit': u'mg'}], u'amount': 0.03, u'name': u'walnuts', u'unit': u'cup'}]}, u'sourceName': u'All Day I Dream About Food', u'cuisines': [u'american'], u'image': u'https://spoonacular.com/recipeImages/brownie-cheesecake-low-carb-and-gluten-free-541391.jpg', u'cheap': False, u'gaps': u'no', u'id': 541391, u'veryPopular': False, u'lowFodmap': False, u'title': u'Brownie Cheesecake \\u2013 Low Carb and Gluten-Free', u'pricePerServing': 162.22, u'creditText': u'All Day I Dream About Food', u'extendedIngredients': [{u'originalString': u'\\xbd cup almond flour (Honeyville)', u'aisle': u'Baking', u'name': u'almond flour', u'metaInformation': [u'(Honeyville)'], u'image': u'https://spoonacular.com/cdn/ingredients_100x100/almond-meal-or-almond-flour.jpg', u'unitLong': u'cups', u'unitShort': u'c', u'amount': 0.5, u'id': 93740, u'unit': u'cup'}, {u'originalString': u'\\xbd cup butter', u'aisle': u'Milk, Eggs, Other Dairy', u'name': u'butter', u'metaInformation': [], u'image': u'https://spoonacular.com/cdn/ingredients_100x100/butter-sliced.jpg', u'unitLong': u'cups', u'unitShort': u'c', u'amount': 0.5, u'id': 1001, u'unit': u'cup'}, {u'originalString': u'\\xbc cup cocoa powder', u'aisle': u'Baking', u'name': u'cocoa powder', u'metaInformation': [], u'image': u'https://spoonacular.com/cdn/ingredients_100x100/cocoa-powder.jpg', u'unitLong': u'cups', u'unitShort': u'c', u'amount': 0.25, u'id': 19165, u'unit': u'cup'}, {u'originalString': u'1 lb cream cheese, softened', u'aisle': u'Cheese', u'name': u'cream cheese', u'metaInformation': [u'softened'], u'image': u'https://spoonacular.com/cdn/ingredients_100x100/cream-cheese.jpg', u'unitLong': u'pound', u'unitShort': u'lb', u'amount': 1.0, u'id': 1017, u'unit': u'lb'}, {u'originalString': u'2 large eggs', u'aisle': u'Milk, Eggs, Other Dairy', u'name': u'eggs', u'metaInformation': [u'large'], u'image': u'https://spoonacular.com/cdn/ingredients_100x100/egg.jpg', u'unitLong': u'', u'unitShort': u'', u'amount': 2.0, u'id': 1123, u'unit': u''}, {u'originalString': u'\\xbd cup Swerve Sweetener or granulated erythritol', u'aisle': u'Health Foods', u'name': u'erythritol', u'metaInformation': [], u'image': u'https://spoonacular.com/cdn/ingredients_100x100/sanding-sugar.png', u'unitLong': u'cups', u'unitShort': u'c', u'amount': 0.5, u'id': 98887, u'unit': u'cup'}, {u'originalString': u'\\xbe cup Swerve Sweetener or granulated erythritol', u'aisle': u'Health Foods', u'name': u'erythritol', u'metaInformation': [], u'image': u'https://spoonacular.com/cdn/ingredients_100x100/sanding-sugar.png', u'unitLong': u'cups', u'unitShort': u'c', u'amount': 0.75, u'id': 98887, u'unit': u'cup'}, {u'originalString': u'\\xbc cup heavy cream', u'aisle': u'Milk, Eggs, Other Dairy', u'name': u'heavy cream', u'metaInformation': [], u'image': u'https://spoonacular.com/cdn/ingredients_100x100/fluid-cream.jpg', u'unitLong': u'cups', u'unitShort': u'c', u'amount': 0.25, u'id': 1053, u'unit': u'cup'}, {u'originalString': u'pinch salt', u'aisle': u'Spices and Seasonings', u'name': u'salt', u'metaInformation': [], u'image': u'https://spoonacular.com/cdn/ingredients_100x100/salt.jpg', u'unitLong': u'pinch', u'unitShort': u'pinch', u'amount': 1.0, u'id': 2047, u'unit': u'pinch'}, {u'originalString': u'2 oz unsweetened chocolate, chopped', u'aisle': u'Baking', u'name': u'unsweetened chocolate', u'metaInformation': [u'unsweetened', u'chopped'], u'image': u'https://spoonacular.com/cdn/ingredients_100x100/baking-chocolate.jpg', u'unitLong': u'ounces', u'unitShort': u'oz', u'amount': 2.0, u'id': 19078, u'unit': u'oz'}, {u'originalString': u'\\xbc tsp vanilla', u'aisle': u'Baking', u'name': u'vanilla', u'metaInformation': [], u'image': u'https://spoonacular.com/cdn/ingredients_100x100/vanilla-extract.jpg', u'unitLong': u'teaspoons', u'unitShort': u't', u'amount': 0.25, u'id': 2050, u'unit': u'tsp'}, {u'originalString': u'\\xbd tsp vanilla extract', u'aisle': u'Baking', u'name': u'vanilla extract', u'metaInformation': [], u'image': u'https://spoonacular.com/cdn/ingredients_100x100/vanilla-extract.jpg', u'unitLong': u'teaspoons', u'unitShort': u't', u'amount': 0.5, u'id': 2050, u'unit': u'tsp'}, {u'originalString': u'\\xbc cup walnuts or pecans, chopped', u'aisle': u'Baking', u'name': u'walnuts', u'metaInformation': [u'chopped'], u'image': u'https://spoonacular.com/cdn/ingredients_100x100/walnuts.jpg', u'unitLong': u'cups', u'unitShort': u'c', u'amount': 0.25, u'id': 12155, u'unit': u'cup'}], u'imageType': u'jpg', u'spoonacularScore': 16.0, u'sourceUrl': u'http://alldayidreamaboutfood.com/2013/02/brownie-cheesecake-low-carb-and-gluten-free.html', u'glutenFree': True, u'vegan': False, u'veryHealthy': False, u'weightWatcherSmartPoints': 15, u'analyzedInstructions': [{u'steps': [{u'equipment': [{u'image': u'https://spoonacular.com/cdn/equipment_100x100/cake-pan.png', u'id': 404650, u'name': u'springform pan'}, {u'image': u'https://spoonacular.com/cdn/equipment_100x100/measuring-cup.jpg', u'id': 404766, u'name': u'measuring cup'}, {u'image': u'https://spoonacular.com/cdn/equipment_100x100/microwave.jpg', u'id': 404762, u'name': u'microwave'}, {u'image': u'https://spoonacular.com/cdn/equipment_100x100/bowl.jpg', u'id': 404783, u'name': u'bowl'}, {u'image': u'https://spoonacular.com/cdn/equipment_100x100/aluminum-foil.png', u'id': 404765, u'name': u'aluminum foil'}, {u'image': u'https://spoonacular.com/cdn/equipment_100x100/oven.jpg', u'id': 404784, u'name': u'oven'}], u'step': u'For the brownie base, preheat oven to 325F and butter a 9-inch springform pan.  Wrap bottom of pan in foil. In a microwave safe bowl or glass measuring cup, melt butter and chocolate together in the microwave in 30 second increments.', u'number': 1, u'ingredients': [{u'image': u'https://spoonacular.com/cdn/ingredients_100x100/butter-sliced.jpg', u'id': 1001, u'name': u'butter'}]}, {u'equipment': [{u'image': u'https://spoonacular.com/cdn/equipment_100x100/sauce-pan.jpg', u'id': 404669, u'name': u'sauce pan'}, {u'image': u'https://spoonacular.com/cdn/equipment_100x100/whisk.png', u'id': 404661, u'name': u'whisk'}, {u'image': u'https://spoonacular.com/cdn/equipment_100x100/bowl.jpg', u'id': 404783, u'name': u'bowl'}], u'step': u'Whisk until smooth.  Alternatively, you can melt them together over low heat in a small saucepan.In a small bowl, whisk together almond flour, cocoa powder and salt.In a large bowl, beat eggs, Swerve and vanilla until smooth.  Beat in almond flour mixture, then butter/chocolate mixture until smooth.  Stir in nuts.', u'number': 2, u'ingredients': [{u'image': u'https://spoonacular.com/cdn/ingredients_100x100/almond-meal-or-almond-flour.jpg', u'id': 93740, u'name': u'almond flour'}, {u'image': u'https://spoonacular.com/cdn/ingredients_100x100/cocoa-powder.jpg', u'id': 19165, u'name': u'cocoa powder'}, {u'image': u'https://spoonacular.com/cdn/ingredients_100x100/vanilla.jpg', u'id': 2050, u'name': u'vanilla'}, {u'image': u'https://spoonacular.com/cdn/ingredients_100x100/butter-sliced.jpg', u'id': 1001, u'name': u'butter'}, {u'image': u'https://spoonacular.com/cdn/ingredients_100x100/egg.jpg', u'id': 1123, u'name': u'egg'}, {u'image': u'https://spoonacular.com/cdn/ingredients_100x100/salt.jpg', u'id': 2047, u'name': u'salt'}]}, {u'equipment': [{u'image': u'https://spoonacular.com/cdn/equipment_100x100/pan.png', u'id': 404645, u'name': u'frying pan'}], u'step': u'Spread evenly over bottom of prepared pan.', u'number': 3, u'ingredients': []}, {u'equipment': [], u'step': u'Bake 15 to 20 minutes until set around edges but still soft in the center.', u'number': 4, u'ingredients': []}, {u'equipment': [{u'image': u'https://spoonacular.com/cdn/equipment_100x100/bowl.jpg', u'id': 404783, u'name': u'bowl'}, {u'image': u'https://spoonacular.com/cdn/equipment_100x100/oven.jpg', u'id': 404784, u'name': u'oven'}], u'step': u'Let cool 15 to 20 minutes.For the filling, reduce oven temperature to 300F.  In a large bowl, beat cream cheese until smooth.  Beat in eggs, Swerve, cream and vanilla until well combined.', u'number': 5, u'ingredients': [{u'image': u'https://spoonacular.com/cdn/ingredients_100x100/cream-cheese.jpg', u'id': 1017, u'name': u'cream cheese'}, {u'image': u'https://spoonacular.com/cdn/ingredients_100x100/vanilla.jpg', u'id': 2050, u'name': u'vanilla'}, {u'image': u'https://spoonacular.com/cdn/ingredients_100x100/fluid-cream.jpg', u'id': 1053, u'name': u'cream'}, {u'image': u'https://spoonacular.com/cdn/ingredients_100x100/egg.jpg', u'id': 1123, u'name': u'egg'}]}, {u'equipment': [{u'image': u'https://spoonacular.com/cdn/equipment_100x100/baking-sheet.jpg', u'id': 404727, u'name': u'baking sheet'}], u'step': u'Pour filling over crust and place cheesecake on a large cookie sheet.', u'number': 6, u'ingredients': []}, {u'equipment': [], u'step': u'Bake until edges are set and center just barely jiggles, 35 to 45 minutes.', u'number': 7, u'ingredients': []}, {u'equipment': [{u'image': u'https://spoonacular.com/cdn/equipment_100x100/plastic-wrap.jpg', u'id': 404730, u'name': u'plastic wrap'}, {u'image': u'https://spoonacular.com/cdn/equipment_100x100/chefs-knife.jpg', u'id': 404745, u'name': u'knife'}, {u'image': u'https://spoonacular.com/cdn/equipment_100x100/oven.jpg', u'id': 404784, u'name': u'oven'}, {u'image': u'https://spoonacular.com/cdn/equipment_100x100/pan.png', u'id': 404645, u'name': u'frying pan'}], u'step': u'Remove from oven and let cool.Run a knife around edges to loosen and then remove sides of pan.  Cover with plastic wrap and refrigerate at least 3 hours.', u'number': 8, u'ingredients': []}, {u'equipment': [], u'step': u'Serve with sugar-free chocolate sauce or ganache.', u'number': 9, u'ingredients': []}], u'name': u''}], u'aggregateLikes': 0, u'instructions': u'For the brownie base, preheat oven to 325F and butter a 9-inch springform pan.  Wrap bottom of pan in foil. In a microwave safe bowl or glass measuring cup, melt butter and chocolate together in the microwave in 30 second increments.  Whisk until smooth.  Alternatively, you can melt them together over low heat in a small saucepan.In a small bowl, whisk together almond flour, cocoa powder and salt.In a large bowl, beat eggs, Swerve and vanilla until smooth.  Beat in almond flour mixture, then butter/chocolate mixture until smooth.  Stir in nuts.Spread evenly over bottom of prepared pan.  Bake 15 to 20 minutes until set around edges but still soft in the center. Let cool 15 to 20 minutes.For the filling, reduce oven temperature to 300F.  In a large bowl, beat cream cheese until smooth.  Beat in eggs, Swerve, cream and vanilla until well combined.Pour filling over crust and place cheesecake on a large cookie sheet.  Bake until edges are set and center just barely jiggles, 35 to 45 minutes.  Remove from oven and let cool.Run a knife around edges to loosen and then remove sides of pan.  Cover with plastic wrap and refrigerate at least 3 hours.  Serve with sugar-free chocolate sauce or ganache.', u'spoonacularSourceUrl': u'https://spoonacular.com/brownie-cheesecake-low-carb-and-gluten-free-541391', u'dishTypes': [], u'vegetarian': True, u'ketogenic': False, u'readyInMinutes': 45, u'servings': 10, u'sustainable': False, u'dairyFree': False, u'whole30': False}\n"
     ]
    },
    {
     "data": {
      "text/plain": [
       "{u'Caffeine': 9.48,\n",
       " u'Calcium': 79.11,\n",
       " u'Calories': 354.6,\n",
       " u'Carbohydrates': 7.9,\n",
       " u'Cholesterol': 115.19,\n",
       " u'Copper': 0.33,\n",
       " u'Fat': 35.72,\n",
       " u'Fiber': 2.44,\n",
       " u'Folate': 14.85,\n",
       " u'Iron': 1.91,\n",
       " u'Magnesium': 39.71,\n",
       " u'Manganese': 0.43,\n",
       " u'Phosphorus': 120.52,\n",
       " u'Potassium': 175.12,\n",
       " u'Protein': 6.8,\n",
       " u'Saturated Fat': 18.61,\n",
       " u'Selenium': 4.84,\n",
       " u'Sodium': 247.17,\n",
       " u'Sugar': 1.9,\n",
       " u'Vitamin A': 1028.38,\n",
       " u'Vitamin B1': 0.03,\n",
       " u'Vitamin B12': 0.22,\n",
       " u'Vitamin B2': 0.12,\n",
       " u'Vitamin B3': 0.24,\n",
       " u'Vitamin B5': 0.45,\n",
       " u'Vitamin B6': 0.05,\n",
       " u'Vitamin D': 0.66,\n",
       " u'Vitamin E': 0.6,\n",
       " u'Vitamin K': 3.01,\n",
       " u'Zinc': 1.15}"
      ]
     },
     "execution_count": 112,
     "metadata": {},
     "output_type": "execute_result"
    }
   ],
   "source": [
    "import unirest\n",
    "\n",
    "def nutritions():\n",
    "    response = unirest.get(\"https://spoonacular-recipe-food-nutrition-v1.p.mashape.com/recipes/541391/information?includeNutrition=true\",\n",
    "      headers={\n",
    "        \"X-Mashape-Key\": \"uI9T1GTt8nmshcUUWJOjq8TQNGBgp1P9Zffjsn7dAbkmTSDt1k\",\n",
    "        \"Accept\": \"application/json\"\n",
    "      }\n",
    "    )\n",
    "    recipeInfo = response.body\n",
    "    print(recipeInfo)\n",
    "    #selectedNutritions = ['Calories', 'Fat', 'Saturated Fat', 'Sugar']\n",
    "    recipeNutritions = recipeInfo['nutrition']['nutrients']\n",
    "    nutritionsDict = {nutrition['title']: nutrition['amount'] for nutrition in recipeNutritions}# if nutrition['title'] in selectedNutritions}\n",
    "    return nutritionsDict\n",
    "\n",
    "\n",
    "nutritions = nutritions()\n",
    "nutritions"
   ]
  },
  {
   "cell_type": "code",
   "execution_count": 11,
   "metadata": {
    "collapsed": false
   },
   "outputs": [],
   "source": [
    "all_keys = list(set().union(*(d.keys() for d in recipesNutrients)))"
   ]
  },
  {
   "cell_type": "code",
   "execution_count": 194,
   "metadata": {
    "collapsed": false
   },
   "outputs": [],
   "source": [
    "nutrition_vector = [nutritions[nutrition] if nutrition in nutritions else 0 for nutrition in all_keys]"
   ]
  },
  {
   "cell_type": "code",
   "execution_count": 195,
   "metadata": {
    "collapsed": false
   },
   "outputs": [],
   "source": [
    "nutrition_vector = np.matrix(nutrition_vector)"
   ]
  },
  {
   "cell_type": "code",
   "execution_count": 152,
   "metadata": {
    "collapsed": false
   },
   "outputs": [],
   "source": [
    "all_nutritions = []\n",
    "for nutritions in recipesNutrients: \n",
    "    vector = [nutritions[nut] if nut in nutritions else 0 for nut in all_keys]\n",
    "    all_nutritions.append(vector)"
   ]
  },
  {
   "cell_type": "code",
   "execution_count": 155,
   "metadata": {
    "collapsed": false
   },
   "outputs": [
    {
     "data": {
      "text/plain": [
       "88"
      ]
     },
     "execution_count": 155,
     "metadata": {},
     "output_type": "execute_result"
    }
   ],
   "source": [
    "len(all_nutritions)"
   ]
  },
  {
   "cell_type": "code",
   "execution_count": 196,
   "metadata": {
    "collapsed": false
   },
   "outputs": [
    {
     "name": "stdout",
     "output_type": "stream",
     "text": [
      "(88L, 32L)\n",
      "(2L, 32L) (3L, 32L)\n",
      "0.994918448306\n",
      "[[  2.53519074e-03]\n",
      " [  9.97452766e-01]\n",
      " [  1.20429725e-05]]\n",
      "[1]\n"
     ]
    },
    {
     "data": {
      "image/png": "[encoded data removed]",
      "text/plain": [
       "<matplotlib.figure.Figure at 0x965bcf8>"
      ]
     },
     "metadata": {},
     "output_type": "display_data"
    }
   ],
   "source": [
    "from __future__ import division, print_function\n",
    "import numpy as np\n",
    "import matplotlib.pyplot as plt\n",
    "import skfuzzy as fuzz\n",
    "\n",
    "%matplotlib inline\n",
    "\n",
    "colors = ['b', 'orange', 'g', 'r', 'c', 'm', 'y', 'k', 'Brown', 'ForestGreen']\n",
    "\n",
    "nutrition_vectors = np.matrix(all_nutritions)\n",
    "\n",
    "print(nutrition_vectors.shape)\n",
    "\n",
    "# train the 100 examples\n",
    "cntr, u, u0, d, jm, p, fpc = fuzz.cluster.cmeans(nutrition_vectors.T, 3, 1.5, error=0.005, maxiter=1000, init=None)\n",
    "print(newtry.shape, cntr.shape)\n",
    "\n",
    "# predict one example\n",
    "u, u0, d, jm, p, fpc = fuzz.cluster.cmeans_predict(nutrition_vector.T, cntr, 1.5, error=0.005, maxiter=1000)\n",
    "\n",
    "print (fpc)\n",
    "print(u)\n",
    "\n",
    "cluster_membership = np.argmax(u, axis=0)  # Hardening for visualization\n",
    "\n",
    "print(cluster_membership)\n",
    "\n",
    "fig3, ax3 = plt.subplots()\n",
    "ax3.set_title('Random points classifed according to known centers')\n",
    "for j in range(4):\n",
    "    ax3.plot(nutrition_vector[cluster_membership == j, 0],\n",
    "             nutrition_vector[cluster_membership == j, 1], 'o',\n",
    "             label='series ' + str(j))\n",
    "ax3.legend()\n",
    "\n",
    "plt.show()"
   ]
  },
  {
   "cell_type": "code",
   "execution_count": 179,
   "metadata": {
    "collapsed": false
   },
   "outputs": [],
   "source": [
    "# # Regenerate fuzzy model with 3 cluster centers - note that center ordering\n",
    "# # is random in this clustering algorithm, so the centers may change places\n",
    "# cntr, u_orig, _, _, _, _, _ = fuzz.cluster.cmeans(\n",
    "#     all_nutritions.T, 2, 2, error=0.005, maxiter=1000)\n",
    "\n",
    "# # Show 3-cluster model\n",
    "# fig2, ax2 = plt.subplots()\n",
    "# ax2.set_title('Trained model')\n",
    "# for j in range(3):\n",
    "#     ax2.plot(all_nutritions.T[0, u_orig.argmax(axis=0) == j],\n",
    "#              all_nutritions.T[1, u_orig.argmax(axis=0) == j], 'o',\n",
    "#              label='series ' + str(j))\n",
    "# ax2.legend()"
   ]
  },
  {
   "cell_type": "code",
   "execution_count": 108,
   "metadata": {
    "collapsed": false
   },
   "outputs": [
    {
     "name": "stdout",
     "output_type": "stream",
     "text": [
      "[False False False False False False False False False False False False\n",
      " False False False False False False False False]\n",
      "[[ 0.    0.29  5.73  6.    0.89  0.43  4.5   1.69  0.94  5.01  1.16  2.51\n",
      "   1.82  3.44  0.33  0.29  0.    0.42  3.83  9.02]]\n",
      "[] 2\n"
     ]
    },
    {
     "data": {
      "text/plain": [
       "array([1, 1, 0, 1, 1, 1, 1, 1, 1, 1, 1, 1, 1, 1, 1, 1, 1, 1, 1, 1], dtype=int64)"
      ]
     },
     "execution_count": 108,
     "metadata": {},
     "output_type": "execute_result"
    }
   ],
   "source": [
    "# this is to make sense of what the u_orig.argmax does\n",
    "print( u_orig.argmax(axis=0) == j)\n",
    "print(all_nutritions.T[0])\n",
    "print(all_nutritions.T[0, u_orig.argmax(axis=0) == j], j)\n",
    "u_orig.argmax(axis = 0)"
   ]
  },
  {
   "cell_type": "code",
   "execution_count": 216,
   "metadata": {
    "collapsed": false,
    "scrolled": true
   },
   "outputs": [
    {
     "data": {
      "text/html": [
       "<div>\n",
       "<table border=\"1\" class=\"dataframe\">\n",
       "  <thead>\n",
       "    <tr style=\"text-align: right;\">\n",
       "      <th></th>\n",
       "      <th>0</th>\n",
       "      <th>1</th>\n",
       "      <th>2</th>\n",
       "      <th>3</th>\n",
       "      <th>4</th>\n",
       "      <th>5</th>\n",
       "      <th>6</th>\n",
       "      <th>7</th>\n",
       "      <th>8</th>\n",
       "      <th>9</th>\n",
       "      <th>10</th>\n",
       "      <th>11</th>\n",
       "      <th>12</th>\n",
       "      <th>13</th>\n",
       "      <th>14</th>\n",
       "    </tr>\n",
       "  </thead>\n",
       "  <tbody>\n",
       "    <tr>\n",
       "      <th>cluster</th>\n",
       "      <td>2.00000</td>\n",
       "      <td>2.000000</td>\n",
       "      <td>2.000000</td>\n",
       "      <td>2.000000</td>\n",
       "      <td>2.000000</td>\n",
       "      <td>3.000000</td>\n",
       "      <td>3.000000</td>\n",
       "      <td>3.000000</td>\n",
       "      <td>3.000000</td>\n",
       "      <td>3.000000</td>\n",
       "      <td>4.000000</td>\n",
       "      <td>4.000000</td>\n",
       "      <td>4.000000</td>\n",
       "      <td>4.000000</td>\n",
       "      <td>4.000000</td>\n",
       "    </tr>\n",
       "    <tr>\n",
       "      <th>m-value</th>\n",
       "      <td>1.20000</td>\n",
       "      <td>1.500000</td>\n",
       "      <td>2.000000</td>\n",
       "      <td>2.500000</td>\n",
       "      <td>3.000000</td>\n",
       "      <td>1.200000</td>\n",
       "      <td>1.500000</td>\n",
       "      <td>2.000000</td>\n",
       "      <td>2.500000</td>\n",
       "      <td>3.000000</td>\n",
       "      <td>1.200000</td>\n",
       "      <td>1.500000</td>\n",
       "      <td>2.000000</td>\n",
       "      <td>2.500000</td>\n",
       "      <td>3.000000</td>\n",
       "    </tr>\n",
       "    <tr>\n",
       "      <th>fpc</th>\n",
       "      <td>0.99811</td>\n",
       "      <td>0.985652</td>\n",
       "      <td>0.942819</td>\n",
       "      <td>0.875316</td>\n",
       "      <td>0.804163</td>\n",
       "      <td>0.964453</td>\n",
       "      <td>0.910918</td>\n",
       "      <td>0.798885</td>\n",
       "      <td>0.671438</td>\n",
       "      <td>0.571875</td>\n",
       "      <td>0.977702</td>\n",
       "      <td>0.920492</td>\n",
       "      <td>0.782946</td>\n",
       "      <td>0.513525</td>\n",
       "      <td>0.423432</td>\n",
       "    </tr>\n",
       "  </tbody>\n",
       "</table>\n",
       "</div>"
      ],
      "text/plain": [
       "              0         1         2         3         4         5         6   \\\n",
       "cluster  2.00000  2.000000  2.000000  2.000000  2.000000  3.000000  3.000000   \n",
       "m-value  1.20000  1.500000  2.000000  2.500000  3.000000  1.200000  1.500000   \n",
       "fpc      0.99811  0.985652  0.942819  0.875316  0.804163  0.964453  0.910918   \n",
       "\n",
       "               7         8         9         10        11        12        13  \\\n",
       "cluster  3.000000  3.000000  3.000000  4.000000  4.000000  4.000000  4.000000   \n",
       "m-value  2.000000  2.500000  3.000000  1.200000  1.500000  2.000000  2.500000   \n",
       "fpc      0.798885  0.671438  0.571875  0.977702  0.920492  0.782946  0.513525   \n",
       "\n",
       "               14  \n",
       "cluster  4.000000  \n",
       "m-value  3.000000  \n",
       "fpc      0.423432  "
      ]
     },
     "execution_count": 216,
     "metadata": {},
     "output_type": "execute_result"
    }
   ],
   "source": [
    "import pandas as pd\n",
    "experiments = []\n",
    "m_list = [1.2, 1.5, 2, 2.5, 3]\n",
    "for nclusters in range(2, 5):\n",
    "    for m in m_list: \n",
    "        _, _, _, _, _, _, fpc = fuzz.cluster.cmeans(nutrition_vectors.T, nclusters, m, error=0.005, maxiter=1000, init=None)\n",
    "        experiments.append((nclusters, m, fpc))\n",
    "df = pd.DataFrame(experiments, columns=[\"cluster\", \"m-value\", \"fpc\"])\n",
    "df.T"
   ]
  },
  {
   "cell_type": "code",
   "execution_count": 218,
   "metadata": {
    "collapsed": false
   },
   "outputs": [
    {
     "data": {
      "text/plain": [
       "u'\\\\begin{tabular}{lrrr}\\n\\\\toprule\\n{} &  cluster &  m-value &       fpc \\\\\\\\\\n\\\\midrule\\n0  &        2 &      1.2 &  0.998110 \\\\\\\\\\n1  &        2 &      1.5 &  0.985652 \\\\\\\\\\n2  &        2 &      2.0 &  0.942819 \\\\\\\\\\n3  &        2 &      2.5 &  0.875316 \\\\\\\\\\n4  &        2 &      3.0 &  0.804163 \\\\\\\\\\n5  &        3 &      1.2 &  0.964453 \\\\\\\\\\n6  &        3 &      1.5 &  0.910918 \\\\\\\\\\n7  &        3 &      2.0 &  0.798885 \\\\\\\\\\n8  &        3 &      2.5 &  0.671438 \\\\\\\\\\n9  &        3 &      3.0 &  0.571875 \\\\\\\\\\n10 &        4 &      1.2 &  0.977702 \\\\\\\\\\n11 &        4 &      1.5 &  0.920492 \\\\\\\\\\n12 &        4 &      2.0 &  0.782946 \\\\\\\\\\n13 &        4 &      2.5 &  0.513525 \\\\\\\\\\n14 &        4 &      3.0 &  0.423432 \\\\\\\\\\n\\\\bottomrule\\n\\\\end{tabular}\\n'"
      ]
     },
     "execution_count": 218,
     "metadata": {},
     "output_type": "execute_result"
    }
   ],
   "source": [
    "df.to_latex()"
   ]
  },
  {
   "cell_type": "code",
   "execution_count": null,
   "metadata": {
    "collapsed": true
   },
   "outputs": [],
   "source": []
  }
 ],
 "metadata": {
  "kernelspec": {
   "display_name": "Python [py27]",
   "language": "python",
   "name": "Python [py27]"
  },
  "language_info": {
   "codemirror_mode": {
    "name": "ipython",
    "version": 2
   },
   "file_extension": ".py",
   "mimetype": "text/x-python",
   "name": "python",
   "nbconvert_exporter": "python",
   "pygments_lexer": "ipython2",
   "version": "2.7.12"
  }
 },
 "nbformat": 4,
 "nbformat_minor": 0
}

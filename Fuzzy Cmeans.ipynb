{
 "cells": [
  {
   "cell_type": "markdown",
   "metadata": {},
   "source": [
    "## Pre-processing Data"
   ]
  },
  {
   "cell_type": "code",
   "execution_count": 1,
   "metadata": {
    "collapsed": true
   },
   "outputs": [],
   "source": [
    "import json\n",
    "\n",
    "# get all of the 100 random recipes received from the api (they were saved to a file)\n",
    "recipesNutrients = json.load(open(\"recipesNutrients2.txt\"))"
   ]
  },
  {
   "cell_type": "code",
   "execution_count": 2,
   "metadata": {
    "collapsed": false,
    "scrolled": true
   },
   "outputs": [
    {
     "data": {
      "text/plain": [
       "{u'Caffeine': 9.48,\n",
       " u'Calcium': 79.11,\n",
       " u'Calories': 354.6,\n",
       " u'Carbohydrates': 7.9,\n",
       " u'Cholesterol': 115.19,\n",
       " u'Copper': 0.33,\n",
       " u'Fat': 35.72,\n",
       " u'Fiber': 2.44,\n",
       " u'Folate': 14.85,\n",
       " u'Iron': 1.91,\n",
       " u'Magnesium': 39.71,\n",
       " u'Manganese': 0.43,\n",
       " u'Phosphorus': 120.52,\n",
       " u'Potassium': 175.12,\n",
       " u'Protein': 6.8,\n",
       " u'Saturated Fat': 18.61,\n",
       " u'Selenium': 4.84,\n",
       " u'Sodium': 247.17,\n",
       " u'Sugar': 1.9,\n",
       " u'Vitamin A': 1028.38,\n",
       " u'Vitamin B1': 0.03,\n",
       " u'Vitamin B12': 0.22,\n",
       " u'Vitamin B2': 0.12,\n",
       " u'Vitamin B3': 0.24,\n",
       " u'Vitamin B5': 0.45,\n",
       " u'Vitamin B6': 0.05,\n",
       " u'Vitamin D': 0.66,\n",
       " u'Vitamin E': 0.6,\n",
       " u'Vitamin K': 3.01,\n",
       " u'Zinc': 1.15}"
      ]
     },
     "execution_count": 2,
     "metadata": {},
     "output_type": "execute_result"
    }
   ],
   "source": [
    "import unirest\n",
    "\n",
    "# gets one recipe to use to predict after training\n",
    "def nutritions():\n",
    "    response = unirest.get(\"https://spoonacular-recipe-food-nutrition-v1.p.mashape.com/recipes/541391/information?includeNutrition=true\",\n",
    "      headers={\n",
    "        \"X-Mashape-Key\": \"uI9T1GTt8nmshcUUWJOjq8TQNGBgp1P9Zffjsn7dAbkmTSDt1k\",\n",
    "        \"Accept\": \"application/json\"\n",
    "      }\n",
    "    )\n",
    "    recipeInfo = response.body\n",
    "    # get all of the nutrition information\n",
    "    recipeNutritions = recipeInfo['nutrition']['nutrients']\n",
    "    # create dict where each key is a nutrition and its value is the value of the nutrition\n",
    "    nutritionsDict = {nutrition['title']: nutrition['amount'] for nutrition in recipeNutritions}# if nutrition['title'] in selectedNutritions}\n",
    "    return nutritionsDict\n",
    "\n",
    "\n",
    "nutritions = nutritions()\n",
    "nutritions"
   ]
  },
  {
   "cell_type": "code",
   "execution_count": 3,
   "metadata": {
    "collapsed": false
   },
   "outputs": [],
   "source": [
    "# get all of the unique nutrients that are present in random recipes since not each recipe has all of the nutrients\n",
    "all_keys = list(set().union(*(d.keys() for d in recipesNutrients)))\n",
    "# save it to a file because we will need it in the future\n",
    "f = open('nutritions.txt', 'w')\n",
    "json.dump(all_keys, f)\n",
    "f.close()"
   ]
  },
  {
   "cell_type": "code",
   "execution_count": 5,
   "metadata": {
    "collapsed": false
   },
   "outputs": [],
   "source": [
    "import numpy as np\n",
    "# create the nutrition vector with all of the nutrition keys so each element corresponds to the correct nutrition\n",
    "# this is for the one prediction example\n",
    "nutrition_vector = [nutritions[nutrition] if nutrition in nutritions else 0 for nutrition in all_keys]\n",
    "nutrition_vector = np.matrix(nutrition_vector)"
   ]
  },
  {
   "cell_type": "code",
   "execution_count": 6,
   "metadata": {
    "collapsed": false
   },
   "outputs": [],
   "source": [
    "# create the nutrition vectors for all the 100 random recipes \n",
    "all_nutritions = []\n",
    "for nutritions in recipesNutrients: \n",
    "    vector = [nutritions[nut] if nut in nutritions else 0 for nut in all_keys]\n",
    "    all_nutritions.append(vector)\n",
    "nutrition_vectors = np.matrix(all_nutritions)"
   ]
  },
  {
   "cell_type": "markdown",
   "metadata": {},
   "source": [
    "## Fuzzy C-Means Clustering"
   ]
  },
  {
   "cell_type": "code",
   "execution_count": 7,
   "metadata": {
    "collapsed": false
   },
   "outputs": [
    {
     "name": "stdout",
     "output_type": "stream",
     "text": [
      "[0]\n"
     ]
    },
    {
     "data": {
      "image/png": "[encoded data removed]",
      "text/plain": [
       "<matplotlib.figure.Figure at 0x3e9c278>"
      ]
     },
     "metadata": {},
     "output_type": "display_data"
    }
   ],
   "source": [
    "from __future__ import division, print_function\n",
    "import numpy as np\n",
    "import matplotlib.pyplot as plt\n",
    "import skfuzzy as fuzz\n",
    "%matplotlib inline\n",
    "\n",
    "\n",
    "colors = ['b', 'orange', 'g', 'r', 'c', 'm', 'y', 'k', 'Brown', 'ForestGreen']\n",
    "\n",
    "# train the 100 examples\n",
    "cntr, u, u0, d, jm, p, fpc = fuzz.cluster.cmeans(nutrition_vectors.T, 3, 1.5, error=0.005, maxiter=1000, init=None)\n",
    "\n",
    "# predict one example\n",
    "u, u0, d, jm, p, fpc = fuzz.cluster.cmeans_predict(nutrition_vector.T, cntr, 1.5, error=0.005, maxiter=1000)\n",
    "\n",
    "# get to which cluster the example belongs to\n",
    "cluster_membership = np.argmax(u, axis=0)  # Hardening for visualization\n",
    "print(cluster_membership)\n",
    "\n",
    "# plot the example \n",
    "fig3, ax3 = plt.subplots()\n",
    "ax3.set_title('Random points classifed according to known centers')\n",
    "for j in range(4):\n",
    "    ax3.plot(nutrition_vector[cluster_membership == j, 0],\n",
    "             nutrition_vector[cluster_membership == j, 1], 'o',\n",
    "             label='series ' + str(j))\n",
    "ax3.legend()\n",
    "\n",
    "plt.show()"
   ]
  },
  {
   "cell_type": "markdown",
   "metadata": {},
   "source": [
    "## Experiments"
   ]
  },
  {
   "cell_type": "code",
   "execution_count": 8,
   "metadata": {
    "collapsed": false,
    "scrolled": true
   },
   "outputs": [
    {
     "data": {
      "text/html": [
       "<div>\n",
       "<table border=\"1\" class=\"dataframe\">\n",
       "  <thead>\n",
       "    <tr style=\"text-align: right;\">\n",
       "      <th></th>\n",
       "      <th>0</th>\n",
       "      <th>1</th>\n",
       "      <th>2</th>\n",
       "      <th>3</th>\n",
       "      <th>4</th>\n",
       "      <th>5</th>\n",
       "      <th>6</th>\n",
       "      <th>7</th>\n",
       "      <th>8</th>\n",
       "      <th>9</th>\n",
       "      <th>10</th>\n",
       "      <th>11</th>\n",
       "      <th>12</th>\n",
       "      <th>13</th>\n",
       "      <th>14</th>\n",
       "    </tr>\n",
       "  </thead>\n",
       "  <tbody>\n",
       "    <tr>\n",
       "      <th>cluster</th>\n",
       "      <td>2.00000</td>\n",
       "      <td>2.000000</td>\n",
       "      <td>2.000000</td>\n",
       "      <td>2.000000</td>\n",
       "      <td>2.000000</td>\n",
       "      <td>3.000000</td>\n",
       "      <td>3.000000</td>\n",
       "      <td>3.000000</td>\n",
       "      <td>3.000000</td>\n",
       "      <td>3.000000</td>\n",
       "      <td>4.000000</td>\n",
       "      <td>4.000000</td>\n",
       "      <td>4.000000</td>\n",
       "      <td>4.000000</td>\n",
       "      <td>4.000000</td>\n",
       "    </tr>\n",
       "    <tr>\n",
       "      <th>m-value</th>\n",
       "      <td>1.20000</td>\n",
       "      <td>1.500000</td>\n",
       "      <td>2.000000</td>\n",
       "      <td>2.500000</td>\n",
       "      <td>3.000000</td>\n",
       "      <td>1.200000</td>\n",
       "      <td>1.500000</td>\n",
       "      <td>2.000000</td>\n",
       "      <td>2.500000</td>\n",
       "      <td>3.000000</td>\n",
       "      <td>1.200000</td>\n",
       "      <td>1.500000</td>\n",
       "      <td>2.000000</td>\n",
       "      <td>2.500000</td>\n",
       "      <td>3.000000</td>\n",
       "    </tr>\n",
       "    <tr>\n",
       "      <th>fpc</th>\n",
       "      <td>0.99811</td>\n",
       "      <td>0.985649</td>\n",
       "      <td>0.942825</td>\n",
       "      <td>0.875259</td>\n",
       "      <td>0.804129</td>\n",
       "      <td>0.964844</td>\n",
       "      <td>0.910918</td>\n",
       "      <td>0.798526</td>\n",
       "      <td>0.671445</td>\n",
       "      <td>0.571815</td>\n",
       "      <td>0.977677</td>\n",
       "      <td>0.920497</td>\n",
       "      <td>0.782949</td>\n",
       "      <td>0.514082</td>\n",
       "      <td>0.468947</td>\n",
       "    </tr>\n",
       "  </tbody>\n",
       "</table>\n",
       "</div>"
      ],
      "text/plain": [
       "              0         1         2         3         4         5         6   \\\n",
       "cluster  2.00000  2.000000  2.000000  2.000000  2.000000  3.000000  3.000000   \n",
       "m-value  1.20000  1.500000  2.000000  2.500000  3.000000  1.200000  1.500000   \n",
       "fpc      0.99811  0.985649  0.942825  0.875259  0.804129  0.964844  0.910918   \n",
       "\n",
       "               7         8         9         10        11        12        13  \\\n",
       "cluster  3.000000  3.000000  3.000000  4.000000  4.000000  4.000000  4.000000   \n",
       "m-value  2.000000  2.500000  3.000000  1.200000  1.500000  2.000000  2.500000   \n",
       "fpc      0.798526  0.671445  0.571815  0.977677  0.920497  0.782949  0.514082   \n",
       "\n",
       "               14  \n",
       "cluster  4.000000  \n",
       "m-value  3.000000  \n",
       "fpc      0.468947  "
      ]
     },
     "execution_count": 8,
     "metadata": {},
     "output_type": "execute_result"
    }
   ],
   "source": [
    "import pandas as pd\n",
    "\n",
    "# experiment with which m values and amount of clusters training goes the best by looking at the fpc\n",
    "experiments = []\n",
    "m_list = [1.2, 1.5, 2, 2.5, 3]\n",
    "# check for different amount of clusters\n",
    "for nclusters in range(2, 5):\n",
    "    # check for different amount of m's \n",
    "    for m in m_list: \n",
    "        _, _, _, _, _, _, fpc = fuzz.cluster.cmeans(nutrition_vectors.T, nclusters, m, error=0.005, maxiter=1000, init=None)\n",
    "        experiments.append((nclusters, m, fpc))\n",
    "df = pd.DataFrame(experiments, columns=[\"cluster\", \"m-value\", \"fpc\"])\n",
    "df.T"
   ]
  },
  {
   "cell_type": "code",
   "execution_count": 11,
   "metadata": {
    "collapsed": false
   },
   "outputs": [
    {
     "name": "stdout",
     "output_type": "stream",
     "text": [
      "[False]\n",
      "[[  1.     0.65   4.84   2.27   1.32   1.48   2.13   0.62   3.1    1.14\n",
      "    1.06   0.93   2.     0.93   1.44   4.92   1.61   0.     1.95   3.18\n",
      "    2.16   3.09   1.94   1.35   0.66   1.33   5.34   3.1    1.53   0.83\n",
      "    3.88   3.18   0.67   3.57   1.17   0.53   2.92   0.9    3.53   1.26\n",
      "    1.42   1.85   0.43   3.27   2.75   4.38   7.81   1.03   0.75   1.09\n",
      "    1.4    2.88   3.78   0.86   7.96   3.82   1.2    2.81   1.34   3.77\n",
      "    5.3    6.35   3.59   1.72   0.74   0.47   2.94  12.12   2.15   4.2\n",
      "    1.45   4.17   1.68   3.99   1.28   5.92   2.32   0.25   1.4    2.28\n",
      "    1.2    2.04   8.62   2.04   3.12   1.89   0.85   2.64]]\n",
      "[] 3\n"
     ]
    },
    {
     "name": "stderr",
     "output_type": "stream",
     "text": [
      "C:\\Users\\Urja\\Anaconda3\\envs\\py27\\lib\\site-packages\\numpy\\matrixlib\\defmatrix.py:318: VisibleDeprecationWarning: boolean index did not match indexed array along dimension 1; dimension is 88 but corresponding boolean dimension is 1\n",
      "  out = N.ndarray.__getitem__(self, index)\n"
     ]
    },
    {
     "data": {
      "text/plain": [
       "array([0], dtype=int64)"
      ]
     },
     "execution_count": 11,
     "metadata": {},
     "output_type": "execute_result"
    }
   ],
   "source": [
    "# this is to make sense of what the u.argmax does (not used for fuzzy cmeans clustering)\n",
    "print(u.argmax(axis=0) == j)\n",
    "print(nutrition_vectors.T[0])\n",
    "print(nutrition_vectors.T[0, u.argmax(axis=0) == j], j)\n",
    "u.argmax(axis = 0)"
   ]
  },
  {
   "cell_type": "code",
   "execution_count": null,
   "metadata": {
    "collapsed": true
   },
   "outputs": [],
   "source": []
  }
 ],
 "metadata": {
  "kernelspec": {
   "display_name": "Python [py27]",
   "language": "python",
   "name": "Python [py27]"
  },
  "language_info": {
   "codemirror_mode": {
    "name": "ipython",
    "version": 2
   },
   "file_extension": ".py",
   "mimetype": "text/x-python",
   "name": "python",
   "nbconvert_exporter": "python",
   "pygments_lexer": "ipython2",
   "version": "2.7.12"
  }
 },
 "nbformat": 4,
 "nbformat_minor": 0
}
